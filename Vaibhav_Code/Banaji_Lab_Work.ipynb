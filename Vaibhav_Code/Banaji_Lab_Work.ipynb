{
  "nbformat": 4,
  "nbformat_minor": 0,
  "metadata": {
    "colab": {
      "name": "Banaji_Lab_Work.ipynb",
      "provenance": [],
      "collapsed_sections": [],
      "authorship_tag": "ABX9TyN2ES3IN+f3uGCIGcXXjYj0",
      "include_colab_link": true
    },
    "kernelspec": {
      "display_name": "Python 3",
      "name": "python3"
    },
    "language_info": {
      "name": "python"
    }
  },
  "cells": [
    {
      "cell_type": "markdown",
      "metadata": {
        "id": "view-in-github",
        "colab_type": "text"
      },
      "source": [
        "<a href=\"https://colab.research.google.com/github/vaibhavrouduri/Thesis-Work/blob/main/Vaibhav_Code/Banaji_Lab_Work.ipynb\" target=\"_parent\"><img src=\"https://colab.research.google.com/assets/colab-badge.svg\" alt=\"Open In Colab\"/></a>"
      ]
    },
    {
      "cell_type": "markdown",
      "metadata": {
        "id": "_PuYMvMySm8c"
      },
      "source": [
        "# Packages to be downloaded"
      ]
    },
    {
      "cell_type": "code",
      "metadata": {
        "id": "h8VgiNmOynYT"
      },
      "source": [
        "import numpy as np\n",
        "import random\n",
        "import time\n",
        "from itertools import filterfalse\n",
        "from scipy import spatial\n",
        "%matplotlib notebook\n",
        "%matplotlib inline\n",
        "import matplotlib.pyplot as plt\n",
        "from sklearn.manifold import TSNE\n",
        "from sklearn.decomposition import PCA\n",
        "import gensim\n",
        "from gensim.test.utils import datapath, get_tmpfile\n",
        "from gensim.models import word2vec\n",
        "from gensim.models import KeyedVectors\n",
        "from sklearn.metrics.pairwise import cosine_similarity\n",
        "from gensim.scripts.glove2word2vec import glove2word2vec"
      ],
      "execution_count": null,
      "outputs": []
    },
    {
      "cell_type": "markdown",
      "metadata": {
        "id": "ByMPQ3vw4g-F"
      },
      "source": [
        "Imported pretrained glove vectors trained on 800B words.\n",
        "Took help from https://colab.research.google.com/github/keras-team/keras-io/blob/master/examples/nlp/ipynb/pretrained_word_embeddings.ipynb#scrollTo=EVOo9FVY2L8P and https://medium.com/analytics-vidhya/basics-of-using-pre-trained-glove-vectors-in-python-d38905f356db\n",
        "\n",
        "\n",
        "---\n",
        "\n"
      ]
    },
    {
      "cell_type": "markdown",
      "metadata": {
        "id": "z0ntJMXrSD46"
      },
      "source": [
        "#Downloading the word vectors and creating a dictionary that maps words to their vectors"
      ]
    },
    {
      "cell_type": "code",
      "metadata": {
        "colab": {
          "base_uri": "https://localhost:8080/"
        },
        "id": "CAb2CGCM2r2G",
        "outputId": "9d6e5a25-95c0-403d-c9aa-fc5b4614104e"
      },
      "source": [
        "!wget http://nlp.stanford.edu/data/glove.840B.300d.zip # Retrieves content from the given URL\n",
        "!unzip -q glove.840B.300d.zip # Unzips the file and returns the .txt file which can be used for analysis"
      ],
      "execution_count": null,
      "outputs": [
        {
          "output_type": "stream",
          "name": "stdout",
          "text": [
            "--2021-11-19 20:19:53--  http://nlp.stanford.edu/data/glove.840B.300d.zip\n",
            "Resolving nlp.stanford.edu (nlp.stanford.edu)... 171.64.67.140\n",
            "Connecting to nlp.stanford.edu (nlp.stanford.edu)|171.64.67.140|:80... connected.\n",
            "HTTP request sent, awaiting response... 302 Found\n",
            "Location: https://nlp.stanford.edu/data/glove.840B.300d.zip [following]\n",
            "--2021-11-19 20:19:53--  https://nlp.stanford.edu/data/glove.840B.300d.zip\n",
            "Connecting to nlp.stanford.edu (nlp.stanford.edu)|171.64.67.140|:443... connected.\n",
            "HTTP request sent, awaiting response... 301 Moved Permanently\n",
            "Location: http://downloads.cs.stanford.edu/nlp/data/glove.840B.300d.zip [following]\n",
            "--2021-11-19 20:19:53--  http://downloads.cs.stanford.edu/nlp/data/glove.840B.300d.zip\n",
            "Resolving downloads.cs.stanford.edu (downloads.cs.stanford.edu)... 171.64.64.22\n",
            "Connecting to downloads.cs.stanford.edu (downloads.cs.stanford.edu)|171.64.64.22|:80... connected.\n",
            "HTTP request sent, awaiting response... 200 OK\n",
            "Length: 2176768927 (2.0G) [application/zip]\n",
            "Saving to: ‘glove.840B.300d.zip’\n",
            "\n",
            "glove.840B.300d.zip   3%[                    ]  69.60M  6.95MB/s    eta 4m 49s ^C\n",
            "[glove.840B.300d.zip]\n",
            "  End-of-central-directory signature not found.  Either this file is not\n",
            "  a zipfile, or it constitutes one disk of a multi-part archive.  In the\n",
            "  latter case the central directory and zipfile comment will be found on\n",
            "  the last disk(s) of this archive.\n",
            "unzip:  cannot find zipfile directory in one of glove.840B.300d.zip or\n",
            "        glove.840B.300d.zip.zip, and cannot find glove.840B.300d.zip.ZIP, period.\n"
          ]
        }
      ]
    },
    {
      "cell_type": "code",
      "metadata": {
        "colab": {
          "base_uri": "https://localhost:8080/"
        },
        "id": "KMuxfb2B5wpI",
        "outputId": "44dccdaa-3613-4506-d7b2-a8ed74854411"
      },
      "source": [
        "embeddings_glove = {} # Empty dictionary in which the words in the vocabulary and the corresponding vector will be added\n",
        "with open(\"glove.840B.300d.txt\") as f:\n",
        "    for line in f: # Each line in the file contains the token followed by a the vector representation of that token trained in glove in 300 dimensions separated by a space. Each dimension of the vector is separated by a space as well\n",
        "        word, coefs = line.split(maxsplit=1) # Splits the line as described above at the first space, hence the token gets separated from the vector. The token is stored in 'word' and the vector is stored in 'coefs'\n",
        "        coefs = np.fromstring(coefs, \"f\", sep=\" \") # Returns the vector representation in the form of an array which can now be used for analysis (cosine similarity, etc)\n",
        "        embeddings_glove[word] = coefs # Add the token and its corresponding vector into the dictionary as key and value pair. Now we can call the vector of any token in the vocabulary via the dictionary"
      ],
      "execution_count": null,
      "outputs": [
        {
          "output_type": "stream",
          "name": "stderr",
          "text": [
            "/usr/local/lib/python3.7/dist-packages/ipykernel_launcher.py:5: DeprecationWarning: string or file could not be read to its end due to unmatched data; this will raise a ValueError in the future.\n",
            "  \"\"\"\n"
          ]
        }
      ]
    },
    {
      "cell_type": "code",
      "metadata": {
        "colab": {
          "base_uri": "https://localhost:8080/"
        },
        "id": "A27YSt0ayLrL",
        "outputId": "09b544a8-a649-4ef6-c805-4868ffa1759b"
      },
      "source": [
        "!wget http://nlp.stanford.edu/data/glove.6B.zip # Retrieves content from the given URL\n",
        "!unzip -q glove.6B.zip # Unzips the file and returns the .txt file which can be used for analysis. In this case, returns 4 files, having 50, 100, 200, and 300 dimensional vectors. We are choosing to use the 300 dimensional vectors"
      ],
      "execution_count": null,
      "outputs": [
        {
          "output_type": "stream",
          "name": "stdout",
          "text": [
            "--2021-11-19 20:20:36--  http://nlp.stanford.edu/data/glove.6B.zip\n",
            "Resolving nlp.stanford.edu (nlp.stanford.edu)... 171.64.67.140\n",
            "Connecting to nlp.stanford.edu (nlp.stanford.edu)|171.64.67.140|:80... connected.\n",
            "HTTP request sent, awaiting response... 302 Found\n",
            "Location: https://nlp.stanford.edu/data/glove.6B.zip [following]\n",
            "--2021-11-19 20:20:36--  https://nlp.stanford.edu/data/glove.6B.zip\n",
            "Connecting to nlp.stanford.edu (nlp.stanford.edu)|171.64.67.140|:443... connected.\n",
            "HTTP request sent, awaiting response... 301 Moved Permanently\n",
            "Location: http://downloads.cs.stanford.edu/nlp/data/glove.6B.zip [following]\n",
            "--2021-11-19 20:20:36--  http://downloads.cs.stanford.edu/nlp/data/glove.6B.zip\n",
            "Resolving downloads.cs.stanford.edu (downloads.cs.stanford.edu)... 171.64.64.22\n",
            "Connecting to downloads.cs.stanford.edu (downloads.cs.stanford.edu)|171.64.64.22|:80... connected.\n",
            "HTTP request sent, awaiting response... 200 OK\n",
            "Length: 862182613 (822M) [application/zip]\n",
            "Saving to: ‘glove.6B.zip’\n",
            "\n",
            "glove.6B.zip        100%[===================>] 822.24M  4.86MB/s    in 2m 41s  \n",
            "\n",
            "2021-11-19 20:23:17 (5.10 MB/s) - ‘glove.6B.zip’ saved [862182613/862182613]\n",
            "\n"
          ]
        }
      ]
    },
    {
      "cell_type": "code",
      "metadata": {
        "id": "quX3HpkWzJVS"
      },
      "source": [
        "embeddings_glove_wiki_gw = {} # Empty dictionary in which the words in the vocabulary and the corresponding vector will be added\n",
        "with open(\"glove.6B.300d.txt\") as f:\n",
        "    for line in f: # Each line in the file contains the token followed by a the vector representation of that token trained in glove in 300 dimensions separated by a space. Each dimension of the vector is separated by a space as well\n",
        "        word, coefs = line.split(maxsplit=1) # Splits the line as described above at the first space, hence the token gets separated from the vector. The token is stored in 'word' and the vector is stored in 'coefs'\n",
        "        coefs = np.fromstring(coefs, \"f\", sep=\" \") # Returns the vector representation in the form of an array which can now be used for analysis (cosine similarity, etc)\n",
        "        embeddings_glove_wiki_gw[word] = coefs # Add the token and its corresponding vector into the dictionary as key and value pair. Now we can call the vector of any token in the vocabulary via the dictionary"
      ],
      "execution_count": null,
      "outputs": []
    },
    {
      "cell_type": "markdown",
      "metadata": {
        "id": "TwAMOJ9IXh_0"
      },
      "source": [
        "# Fastext"
      ]
    },
    {
      "cell_type": "markdown",
      "metadata": {
        "id": "aC0KrV7-u-zW"
      },
      "source": [
        "## Common Crawl"
      ]
    },
    {
      "cell_type": "code",
      "metadata": {
        "colab": {
          "base_uri": "https://localhost:8080/"
        },
        "id": "9c1_5VGKXlF3",
        "outputId": "e2564e45-1154-4b1f-a58b-68b3b324a345"
      },
      "source": [
        "!wget https://dl.fbaipublicfiles.com/fasttext/vectors-english/crawl-300d-2M.vec.zip # Retrieves content from the given URL\n",
        "!unzip -q crawl-300d-2M.vec.zip # Unzips the file and returns the .vec file which can be used for analysis"
      ],
      "execution_count": null,
      "outputs": [
        {
          "output_type": "stream",
          "name": "stdout",
          "text": [
            "--2021-11-19 20:33:00--  https://dl.fbaipublicfiles.com/fasttext/vectors-english/crawl-300d-2M.vec.zip\n",
            "Resolving dl.fbaipublicfiles.com (dl.fbaipublicfiles.com)... 104.22.74.142, 172.67.9.4, 104.22.75.142, ...\n",
            "Connecting to dl.fbaipublicfiles.com (dl.fbaipublicfiles.com)|104.22.74.142|:443... connected.\n",
            "HTTP request sent, awaiting response... 200 OK\n",
            "Length: 1523785255 (1.4G) [application/zip]\n",
            "Saving to: ‘crawl-300d-2M.vec.zip’\n",
            "\n",
            "crawl-300d-2M.vec.z 100%[===================>]   1.42G  19.5MB/s    in 74s     \n",
            "\n",
            "2021-11-19 20:34:15 (19.5 MB/s) - ‘crawl-300d-2M.vec.zip’ saved [1523785255/1523785255]\n",
            "\n"
          ]
        }
      ]
    },
    {
      "cell_type": "code",
      "metadata": {
        "id": "gDa3cukNYUg3"
      },
      "source": [
        "embeddings_fastext_cc = {}\n",
        "with open(\"crawl-300d-2M.vec\") as f:\n",
        "    for line in f: # Each line in the file contains the token followed by a the vector representation of that token trained in glove in 300 dimensions separated by a space. Each dimension of the vector is separated by a space as well\n",
        "        word, coefs = line.split(maxsplit=1) # Splits the line as described above at the first space, hence the token gets separated from the vector. The token is stored in 'word' and the vector is stored in 'coefs'\n",
        "        coefs = np.fromstring(coefs, \"f\", sep=\" \") # Returns the vector representation in the form of an array which can now be used for analysis (cosine similarity, etc)\n",
        "        embeddings_fastext_cc[word] = coefs # Add the token and its corresponding vector into the dictionary as key and value pair. Now we can call the vector of any token in the vocabulary via the dictionary"
      ],
      "execution_count": null,
      "outputs": []
    },
    {
      "cell_type": "markdown",
      "metadata": {
        "id": "Q-7ZoQL7vEiK"
      },
      "source": [
        "## Wikipedia\n"
      ]
    },
    {
      "cell_type": "code",
      "metadata": {
        "colab": {
          "base_uri": "https://localhost:8080/"
        },
        "id": "SKgn7xfavG4k",
        "outputId": "f1cc6c58-acfb-406d-dff5-95a55fa43b46"
      },
      "source": [
        "!wget https://dl.fbaipublicfiles.com/fasttext/vectors-english/wiki-news-300d-1M.vec.zip # Retrieves content from the given URL\n",
        "!unzip -q wiki-news-300d-1M.vec.zip # Unzips the file and returns the .vec file which can be used for analysis"
      ],
      "execution_count": null,
      "outputs": [
        {
          "name": "stdout",
          "output_type": "stream",
          "text": [
            "--2021-11-01 15:45:39--  https://dl.fbaipublicfiles.com/fasttext/vectors-english/wiki-news-300d-1M.vec.zip\n",
            "Resolving dl.fbaipublicfiles.com (dl.fbaipublicfiles.com)... 172.67.9.4, 104.22.75.142, 104.22.74.142, ...\n",
            "Connecting to dl.fbaipublicfiles.com (dl.fbaipublicfiles.com)|172.67.9.4|:443... connected.\n",
            "HTTP request sent, awaiting response... 200 OK\n",
            "Length: 681808098 (650M) [application/zip]\n",
            "Saving to: ‘wiki-news-300d-1M.vec.zip’\n",
            "\n",
            "wiki-news-300d-1M.v 100%[===================>] 650.22M  19.9MB/s    in 34s     \n",
            "\n",
            "2021-11-01 15:46:13 (19.3 MB/s) - ‘wiki-news-300d-1M.vec.zip’ saved [681808098/681808098]\n",
            "\n"
          ]
        }
      ]
    },
    {
      "cell_type": "code",
      "metadata": {
        "id": "sun4FhrvwpOa"
      },
      "source": [
        "embeddings_fastext_wiki = {}\n",
        "with open(\"wiki-news-300d-1M.vec\") as f:\n",
        "    for line in f: # Each line in the file contains the token followed by a the vector representation of that token trained in glove in 300 dimensions separated by a space. Each dimension of the vector is separated by a space as well\n",
        "        word, coefs = line.split(maxsplit=1) # Splits the line as described above at the first space, hence the token gets separated from the vector. The token is stored in 'word' and the vector is stored in 'coefs'\n",
        "        coefs = np.fromstring(coefs, \"f\", sep=\" \") # Returns the vector representation in the form of an array which can now be used for analysis (cosine similarity, etc)\n",
        "        embeddings_fastext_cc[word] = coefs # Add the token and its corresponding vector into the dictionary as key and value pair. Now we can call the vector of any token in the vocabulary via the dictionary"
      ],
      "execution_count": null,
      "outputs": []
    },
    {
      "cell_type": "markdown",
      "metadata": {
        "id": "x0vKKBtiqL0K"
      },
      "source": [
        "# word2vec"
      ]
    },
    {
      "cell_type": "code",
      "metadata": {
        "colab": {
          "base_uri": "https://localhost:8080/"
        },
        "id": "vrgYpGjosyxq",
        "outputId": "081c0196-8c81-4ec2-f768-70a3b0468223"
      },
      "source": [
        "!wget -P /root/input/ -c \"https://s3.amazonaws.com/dl4j-distribution/GoogleNews-vectors-negative300.bin.gz\""
      ],
      "execution_count": null,
      "outputs": [
        {
          "name": "stdout",
          "output_type": "stream",
          "text": [
            "--2021-11-03 15:11:48--  https://s3.amazonaws.com/dl4j-distribution/GoogleNews-vectors-negative300.bin.gz\n",
            "Resolving s3.amazonaws.com (s3.amazonaws.com)... 52.217.36.6\n",
            "Connecting to s3.amazonaws.com (s3.amazonaws.com)|52.217.36.6|:443... connected.\n",
            "HTTP request sent, awaiting response... 200 OK\n",
            "Length: 1647046227 (1.5G) [application/x-gzip]\n",
            "Saving to: ‘/root/input/GoogleNews-vectors-negative300.bin.gz’\n",
            "\n",
            "GoogleNews-vectors- 100%[===================>]   1.53G  44.6MB/s    in 37s     \n",
            "\n",
            "2021-11-03 15:12:26 (42.2 MB/s) - ‘/root/input/GoogleNews-vectors-negative300.bin.gz’ saved [1647046227/1647046227]\n",
            "\n"
          ]
        }
      ]
    },
    {
      "cell_type": "code",
      "metadata": {
        "id": "dQvStxaaXFvB"
      },
      "source": [
        "EMBEDDING_FILE = '/root/input/GoogleNews-vectors-negative300.bin.gz'\n",
        "embeddings_word2vec = KeyedVectors.load_word2vec_format(EMBEDDING_FILE, binary=True)"
      ],
      "execution_count": null,
      "outputs": []
    },
    {
      "cell_type": "markdown",
      "metadata": {
        "id": "9pwndzvYSY_7"
      },
      "source": [
        "# Using the merriam websters thesaurus API to check definitions and synonyms of different words"
      ]
    },
    {
      "cell_type": "code",
      "metadata": {
        "colab": {
          "base_uri": "https://localhost:8080/"
        },
        "id": "ZhpHUrGkw7OG",
        "outputId": "32769e80-35fa-40ec-8e07-98f26360e4f0"
      },
      "source": [
        "pip install mwthesaurus # pip is the package installer for python. Here we are using it to download the Merriam-Webster Dictionary package "
      ],
      "execution_count": null,
      "outputs": [
        {
          "name": "stdout",
          "output_type": "stream",
          "text": [
            "Collecting mwthesaurus\n",
            "  Downloading mwthesaurus-0.1.2-py3-none-any.whl (4.0 kB)\n",
            "Collecting httpx<0.14.0,>=0.13.0\n",
            "  Downloading httpx-0.13.3-py3-none-any.whl (55 kB)\n",
            "\u001b[K     |████████████████████████████████| 55 kB 1.8 MB/s \n",
            "\u001b[?25hCollecting httpcore==0.9.*\n",
            "  Downloading httpcore-0.9.1-py3-none-any.whl (42 kB)\n",
            "\u001b[K     |████████████████████████████████| 42 kB 1.1 MB/s \n",
            "\u001b[?25hCollecting sniffio\n",
            "  Downloading sniffio-1.2.0-py3-none-any.whl (10 kB)\n",
            "Requirement already satisfied: idna==2.* in /usr/local/lib/python3.7/dist-packages (from httpx<0.14.0,>=0.13.0->mwthesaurus) (2.10)\n",
            "Collecting hstspreload\n",
            "  Downloading hstspreload-2021.10.1-py3-none-any.whl (1.2 MB)\n",
            "\u001b[K     |████████████████████████████████| 1.2 MB 19.2 MB/s \n",
            "\u001b[?25hRequirement already satisfied: certifi in /usr/local/lib/python3.7/dist-packages (from httpx<0.14.0,>=0.13.0->mwthesaurus) (2021.5.30)\n",
            "Collecting rfc3986<2,>=1.3\n",
            "  Downloading rfc3986-1.5.0-py2.py3-none-any.whl (31 kB)\n",
            "Requirement already satisfied: chardet==3.* in /usr/local/lib/python3.7/dist-packages (from httpx<0.14.0,>=0.13.0->mwthesaurus) (3.0.4)\n",
            "Collecting h2==3.*\n",
            "  Downloading h2-3.2.0-py2.py3-none-any.whl (65 kB)\n",
            "\u001b[K     |████████████████████████████████| 65 kB 2.5 MB/s \n",
            "\u001b[?25hCollecting h11<0.10,>=0.8\n",
            "  Downloading h11-0.9.0-py2.py3-none-any.whl (53 kB)\n",
            "\u001b[K     |████████████████████████████████| 53 kB 1.6 MB/s \n",
            "\u001b[?25hCollecting hpack<4,>=3.0\n",
            "  Downloading hpack-3.0.0-py2.py3-none-any.whl (38 kB)\n",
            "Collecting hyperframe<6,>=5.2.0\n",
            "  Downloading hyperframe-5.2.0-py2.py3-none-any.whl (12 kB)\n",
            "Installing collected packages: hyperframe, hpack, sniffio, h2, h11, rfc3986, httpcore, hstspreload, httpx, mwthesaurus\n",
            "Successfully installed h11-0.9.0 h2-3.2.0 hpack-3.0.0 hstspreload-2021.10.1 httpcore-0.9.1 httpx-0.13.3 hyperframe-5.2.0 mwthesaurus-0.1.2 rfc3986-1.5.0 sniffio-1.2.0\n"
          ]
        }
      ]
    },
    {
      "cell_type": "code",
      "metadata": {
        "colab": {
          "base_uri": "https://localhost:8080/"
        },
        "id": "kAQMaet0R6PN",
        "outputId": "04d610ec-a849-453d-f595-84259e534da4"
      },
      "source": [
        "# In order to use the API, you are required to register on the website https://dictionaryapi.com/ after you will be provided with a key.\n",
        "from mwthesaurus import MWClient \n",
        "client = MWClient(key = \"c718d29d-2915-4216-963b-dc24718dd162\")\n",
        "client.get(\"idyll\")"
      ],
      "execution_count": null,
      "outputs": [
        {
          "data": {
            "text/plain": [
              "[Word(word='idyll', wordtype='noun', shortdef=['a time or instance of carefree fun'], synonyms=['binge', 'fling', 'frisk', 'frolic', 'gambol', 'lark', 'ploy', 'revel', 'rollick', 'romp', 'spree'], antonyms=[], stems=['idyll', 'idyl', 'idylls', 'idyls'])]"
            ]
          },
          "execution_count": 5,
          "metadata": {},
          "output_type": "execute_result"
        }
      ]
    },
    {
      "cell_type": "markdown",
      "metadata": {
        "id": "Mi8lQl_8qthR"
      },
      "source": [
        "#WEAT"
      ]
    },
    {
      "cell_type": "code",
      "metadata": {
        "id": "mlTJFcDgy9qZ"
      },
      "source": [
        "# # Valenced 1\n",
        "# A = [\"Love\", \"Cheer\", \"Friend\", \"Pleasure\", \"Paradise\", \"Splendid\"]\n",
        "# B = [\"Abuse\", \"Grief\", \"Poison\", \"Sadness\", \"Pain\", \"Bomb\"]"
      ],
      "execution_count": null,
      "outputs": []
    },
    {
      "cell_type": "code",
      "metadata": {
        "id": "W-lcBYA9zDBq"
      },
      "source": [
        "# # Valenced 2\n",
        "# A = [\"Adore\", \"Cheerful\", \"Euphoric\", \"Friendship\", \"Joyful\", \"Smiling\"]\n",
        "# B = [\"Aggravate\", \"Despise\", \"Failure\", \"Horrendous\", \"Nasty\", \"Repulsive\"]"
      ],
      "execution_count": null,
      "outputs": []
    },
    {
      "cell_type": "code",
      "metadata": {
        "id": "m36ewOOEzFA2"
      },
      "source": [
        "# # Valenced 3\n",
        "# A = [\"Affectionate\", \"Cherish\", \"Excellent\", \"Glad\", \"Joyous\", \"Spectacular\"]\n",
        "# B = [\"Angry\", \"Detest\", \"Ghastly\", \"Horrible\", \"Negative\", \"Ugly\"]"
      ],
      "execution_count": null,
      "outputs": []
    },
    {
      "cell_type": "code",
      "metadata": {
        "id": "1DaixigbzIi_"
      },
      "source": [
        "# # Valenced 4\n",
        "# A = [\"Appealing\", \"Delight\", \"Excitement\", \"Glee\", \"Laughing\", \"Splendid\"]\n",
        "# B = [\"Animosity\", \"Dirty\", \"Gross\", \"Evil\", \"Neglected\", \"Rotten\"]"
      ],
      "execution_count": null,
      "outputs": []
    },
    {
      "cell_type": "code",
      "metadata": {
        "id": "X4S-89kZzKh7"
      },
      "source": [
        "# Valenced 5\n",
        "A = [\"Attractive\", \"Delightful\", \"Fabulous\", \"Glorious\", \"Likeable\", \"Pleasing\"]\n",
        "B = [\"Annoy\", \"Disaster\", \"Grotesque\", \"Horrific\", \"Noxious\", \"Scorn\"]"
      ],
      "execution_count": null,
      "outputs": []
    },
    {
      "cell_type": "code",
      "metadata": {
        "id": "u2eBlQUhzNIp"
      },
      "source": [
        "# # Valenced 6\n",
        "# A = [\"Beautiful\", \"Fantastic\", \"Happy\", \"Lovely\", \"Pleasure\", \"Terrific\"]\n",
        "# B = [\"Awful\", \"Disgust\", \"Hate\", \"Humilate\", \"Selfish\", \"Tragic\"]"
      ],
      "execution_count": null,
      "outputs": []
    },
    {
      "cell_type": "code",
      "metadata": {
        "id": "UGEwxre4zQbP"
      },
      "source": [
        "# # Valenced 7\n",
        "# A = [\"Celebrate\", \"Enjoy\", \"Favorable\", \"Gorgeous\", \"Magnificent\", \"Triumph\"]\n",
        "# B = [\"Bothersome\", \"Hatred\", \"Hurtful\", \"Putrid\", \"Sickening\", \"Yucky\"]"
      ],
      "execution_count": null,
      "outputs": []
    },
    {
      "cell_type": "code",
      "metadata": {
        "id": "0bIoSx-JW5NO"
      },
      "source": [
        "# # Combined stilumlus sets\n",
        "# A = [\"Love\", \"Cheer\", \"Friend\", \"Pleasure\", \"Paradise\", \"Splendid\", \"Adore\", \"Cheerful\", \"Euphoric\", \"Friendship\", \"Joyful\", \"Smiling\", \"Affectionate\", \"Cherish\", \"Excellent\", \"Glad\", \"Joyous\", \"Spectacular\", \"Appealing\", \"Delight\", \"Excitement\", \"Glee\", \"Laughing\", \"Splendid\", \"Attractive\", \"Delightful\", \"Fabulous\", \"Glorious\", \"Likeable\", \"Pleasing\", \"Beautiful\", \"Fantastic\", \"Happy\", \"Lovely\", \"Pleasure\", \"Terrific\", \"Celebrate\", \"Enjoy\", \"Favorable\", \"Gorgeous\", \"Magnificent\", \"Triumph\"]\n",
        "# B = [\"Abuse\", \"Grief\", \"Poison\", \"Sadness\", \"Pain\", \"Bomb\", \"Aggravate\", \"Despise\", \"Failure\", \"Horrendous\", \"Nasty\", \"Repulsive\", \"Angry\", \"Detest\", \"Ghastly\", \"Horrible\", \"Negative\", \"Ugly\", \"Animosity\", \"Dirty\", \"Gross\", \"Evil\", \"Neglected\", \"Rotten\", \"Annoy\", \"Disaster\", \"Grotesque\", \"Horrific\", \"Noxious\", \"Scorn\", \"Awful\", \"Disgust\", \"Hate\", \"Humiliate\", \"Selfish\", \"Tragic\", \"Bothersome\", \"Hatred\", \"Hurtful\", \"Putrid\", \"Sickening\", \"Yucky\"]"
      ],
      "execution_count": null,
      "outputs": []
    },
    {
      "cell_type": "code",
      "metadata": {
        "id": "Btr6wOuOgQvh"
      },
      "source": [
        "# # European American - African American/Pleasant - Unpleasant\n",
        "# X = [\"Adam\", \"Harry\", \"Josh\", \"Roger\", \"Alan\", \"Frank\", \"Justin\",\n",
        "# \"Ryan\", \"Andrew\", \"Jack\", \"Matthew\", \"Stephen\", \"Brad\", \"Greg\", \"Paul\", \"Jonathan\", \"Peter\", \"Amanda\", \"Courtney\", \"Heather\", \"Melanie\", \"Katie\", \"Betsy\", \"Kristin\", \"Nancy\", \"Stephanie\",\n",
        "# \"Ellen\", \"Lauren\", \"Colleen\", \"Emily\", \"Megan\", \"Rachel\"]\n",
        "# Y = [\"Alonzo\", \"Jamel\", \"Theo\", \"Alphonse\", \"Jerome\",\n",
        "# \"Leroy\", \"Torrance\", \"Darnell\", \"Lamar\", \"Lionel\", \"Tyree\", \"Deion\", \"Lamont\", \"Malik\",\n",
        "# \"Terrence\", \"Tyrone\", \"Lavon\", \"Marcellus\", \"Wardell\", \"Nichelle\",\n",
        "# \"Shereen\", \"Ebony\", \"Latisha\", \"Shaniqua\", \"Jasmine\",\n",
        "# \"Tanisha\", \"Tia\", \"Lakisha\", \"Latoya\", \"Yolanda\", \"Malika\", \"Yvette\"]\n",
        "# # # IAT Attribute list\n",
        "# # A = [\"Love\", \"Cheer\", \"Friend\", \"Pleasure\", \"Paradise\", \"Splendid\"]\n",
        "# # B = [\"Abuse\", \"Grief\", \"Poison\", \"Sadness\", \"Pain\", \"Bomb\"]\n",
        "# # Aylin's Attribute list\n",
        "# A = [\"caress\", \"freedom\", \"health\", \"love\", \"peace\", \"cheer\", \"friend\", \"heaven\", \"loyal\", \"pleasure\", \"diamond\", \"gentle\", \"honest\", \"lucky\", \"rainbow\", \"diploma\", \"gift\", \"honor\", \"miracle\", \"sunrise\", \"family\",\n",
        "#     \"happy\", \"laughter\", \"paradise\", \"vacation\"] \n",
        "# B = [\"abuse\", \"crash\", \"filth\", \"murder\", \"sickness\", \"accident\", \"death\", \"grief\", \"poison\", \"stink\", \"assault\", \"disaster\", \"hatred\", \"pollute\", \"tragedy\", \"divorce\", \"jail\", \"poverty\", \"ugly\", \"cancer\", \"kill\", \"rotten\",\n",
        "#     \"vomit\", \"agony\", \"prison\"]\n"
      ],
      "execution_count": null,
      "outputs": []
    },
    {
      "cell_type": "code",
      "metadata": {
        "id": "rXgP3GbmaYA8"
      },
      "source": [
        "# Asian - White\n",
        "\n",
        "X = [\"Chang\", \"Hwang\", \"Wong\", \"Chen\", \"Nguyen\", \"Fujimoto\", \"Lee\"]\n",
        "Y = [\"Smith\", \"Jones\", \"Adams\", \"Harris\", \"Miller\", \"Perry\", \"Ward\"]\n",
        "# X = [\"Chang\", \"Hwang\", \"Wong\", \"Chen\", \"Nguyen\", \"Fujimoto\", \"Lee\", \"Cheng\", \"Wei\", \"Liang\", \"Jang\", \"Qian\"]\n",
        "# Y = [\"Smith\", \"Jones\", \"Adams\", \"Harris\", \"Miller\", \"Perry\", \"Ward\", \"Adam\", \"Harry\", \"Josh\", \"Roger\", \"Alan\"]\n",
        "\n",
        "# # IAT Attributes\n",
        "# A = [\"Affectionate\", \"Cherish\", \"Excellent\", \"Glad\", \"Joyous\", \"Spectacular\"]\n",
        "# B = [\"Angry\", \"Detest\", \"Ghastly\", \"Horrible\", \"Negative\", \"Ugly\"] \n",
        "\n",
        "# Kirsten Project Attributes\n",
        "A = [\"Triumph\", \"Friendship\", \"Magnificent\", \"Glad\", \"Friend\", \"Enjoy\", \"Fantastic\"]\n",
        "B = [\"Hatred\", \"Dirty\", \"Despise\", \"Disgust\", \"Evil\", \"Horrible\", \"Yucky\"]"
      ],
      "execution_count": null,
      "outputs": []
    },
    {
      "cell_type": "code",
      "metadata": {
        "id": "1hojKUg1ehDa"
      },
      "source": [
        "# # Young People - Old People\n",
        "# # Correct and significant\n",
        "# X = [\"Tiffany\", \"Michelle\", \"Cindy\", \"Kristy\", \"Brad\", \"Eric\", \"Joey\", \"Billy\"]\n",
        "# Y = [\"Ethel\", \"Bernice\", \"Gertrude\", \"Agnes\", \"Cecil\", \"Wilbert\", \"Mortimer\", \"Edgar\"]\n",
        "# # IAT Attributes\n",
        "# A = [\"Affectionate\", \"Cherish\", \"Excellent\", \"Glad\", \"Joyous\", \"Spectacular\"]\n",
        "# B = [\"Angry\", \"Detest\", \"Ghastly\", \"Horrible\", \"Negative\", \"Ugly\"]\n",
        "# # Aylin's Attributes\n",
        "# # A = [\"joy\", \"love\", \"peace\", \"wonderful\", \"pleasure\", \"friend\", \"laughter\", \"happy\"]\n",
        "# # B = [\"agony\", \"terrible\", \"horrible\", \"nasty\", \"evil\", \"war\", \"awful\", \"failure\"]"
      ],
      "execution_count": null,
      "outputs": []
    },
    {
      "cell_type": "code",
      "metadata": {
        "id": "UowppO82jljf"
      },
      "source": [
        "# Difficult - Simple\n",
        "X = [\"Complicated\", \"Challenging\", \"Puzzling\", \"Baffling\"]\n",
        "Y = [\"Easy\", \"Elementary\", \"Straightforward\", \"Effortless\"]\n",
        "A = [\"Appealing\", \"Delight\", \"Excitement\", \"Glee\", \"Laughing\", \"Splendid\"]\n",
        "B = [\"Animosity\", \"Dirty\", \"Gross\", \"Evil\", \"Neglected\", \"Rotten\"]\n"
      ],
      "execution_count": null,
      "outputs": []
    },
    {
      "cell_type": "code",
      "metadata": {
        "id": "kHw2WVPs-tRd"
      },
      "source": [
        "# # Drinking - Abstaining\n",
        "# X = [\"Alcohol\", \"Drunk\", \"Intoxicated\", \"Inebriated\"]\n",
        "# Y = [\"Abstain\", \"Sober\", \"Refrain\", \"Refraining\", \"Sobriety\"]\n",
        "# A = [\"Celebrate\", \"Enjoy\", \"Favorable\", \"Gorgeous\", \"Magnificent\", \"Triumph\"]\n",
        "# B = [\"Bothersome\", \"Hatred\", \"Hurtful\", \"Putrid\", \"Sickening\", \"Yucky\"]\n",
        "# # Combined stilumlus sets\n",
        "# A = [\"Love\", \"Cheer\", \"Friend\", \"Pleasure\", \"Paradise\", \"Splendid\", \"Adore\", \"Cheerful\", \"Euphoric\", \"Friendship\", \"Joyful\", \"Smiling\", \"Affectionate\", \"Cherish\", \"Excellent\", \"Glad\", \"Joyous\", \"Spectacular\", \"Appealing\", \"Delight\", \"Excitement\", \"Glee\", \"Laughing\", \"Splendid\", \"Attractive\", \"Delightful\", \"Fabulous\", \"Glorious\", \"Likeable\", \"Pleasing\", \"Beautiful\", \"Fantastic\", \"Happy\", \"Lovely\", \"Pleasure\", \"Terrific\", \"Celebrate\", \"Enjoy\", \"Favorable\", \"Gorgeous\", \"Magnificent\", \"Triumph\"]\n",
        "# B = [\"Abuse\", \"Grief\", \"Poison\", \"Sadness\", \"Pain\", \"Bomb\", \"Aggravate\", \"Despise\", \"Failure\", \"Horrendous\", \"Nasty\", \"Repulsive\", \"Angry\", \"Detest\", \"Ghastly\", \"Horrible\", \"Negative\", \"Ugly\", \"Animosity\", \"Dirty\", \"Gross\", \"Evil\", \"Neglected\", \"Rotten\", \"Annoy\", \"Disaster\", \"Grotesque\", \"Horrific\", \"Noxious\", \"Scorn\", \"Awful\", \"Disgust\", \"Hate\", \"Humiliate\", \"Selfish\", \"Tragic\", \"Bothersome\", \"Hatred\", \"Hurtful\", \"Putrid\", \"Sickening\", \"Yucky\"]"
      ],
      "execution_count": null,
      "outputs": []
    },
    {
      "cell_type": "code",
      "metadata": {
        "id": "s2G8d8AivqPd"
      },
      "source": [
        "# # Skeptical - Trusting\n",
        "\n",
        "# # # IAT Stimuli\n",
        "# # X = [\"Questioning\", \"Hesitant\", \"Wary\", \"Doubtful\"]\n",
        "# # Y = [\"Convinced\", \"Confident\", \"Accepting\", \"Believing\"]\n",
        "\n",
        "# # Modified\n",
        "# X = [\"Skeptical\", \"Questioning\", \"Hesitant\", \"Wary\", \"Doubtful\"]\n",
        "# Y = [\"Trusting\", \"Convinced\", \"Confident\", \"Accepting\", \"Believing\"]\n",
        "\n",
        "# A = [\"Appealing\", \"Delight\", \"Excitement\", \"Glee\", \"Laughing\", \"Splendid\"]\n",
        "# B = [\"Animosity\", \"Dirty\", \"Gross\", \"Evil\", \"Neglected\", \"Rotten\"]"
      ],
      "execution_count": null,
      "outputs": []
    },
    {
      "cell_type": "code",
      "metadata": {
        "id": "BLlneV3ZzOy5"
      },
      "source": [
        "# # Avoiding - Approaching\n",
        "\n",
        "# # # IAT Stimuli\n",
        "# # X = [\"Back\", \"Withdraw\", \"Recoil\", \"Retreat\", \"Away\"]\n",
        "# # Y = [\"Toward\", \"Closer\", \"Advance\", \"Forward\", \"Near\"]\n",
        "\n",
        "# # Modified\n",
        "# X = [\"Avoiding\", \"Back\", \"Withdraw\", \"Recoil\", \"Retreat\", \"Away\"] \n",
        "# Y = [\"Approaching\", \"Toward\", \"Closer\", \"Advance\", \"Forward\", \"Near\"]\n",
        "\n",
        "# A = [\"Adore\", \"Cheerful\", \"Euphoric\", \"Friendship\", \"Joyful\", \"Smiling\"]\n",
        "# B = [\"Aggravate\", \"Despise\", \"Failure\", \"Horrendous\", \"Nasty\", \"Repulsive\"]"
      ],
      "execution_count": null,
      "outputs": []
    },
    {
      "cell_type": "code",
      "metadata": {
        "id": "iSQbAV-O1NJf"
      },
      "source": [
        "# # Poor People - Rich People\n",
        "# X = [\"Poor\", \"Impoverished\", \"Broke\", \"Bankrupt\"]\n",
        "# Y = [\"Wealthy\", \"Affluent\", \"Prosperous\", \"well-off\"]\n",
        "# A = [\"Appealing\", \"Delight\", \"Excitement\", \"Glee\", \"Laughing\", \"Splendid\"]\n",
        "# B = [\"Animosity\", \"Dirty\", \"Gross\", \"Evil\", \"Neglected\", \"Rotten\"]"
      ],
      "execution_count": null,
      "outputs": []
    },
    {
      "cell_type": "code",
      "metadata": {
        "id": "f-PUovGxIkaU"
      },
      "source": [
        "# # Punishment - Forgiveness\n",
        "\n",
        "# # IAT Attributes\n",
        "# X = [\"Penalty\", \"Retribution\", \"Discipline\", \"Punitive\", \"Sanction\"]\n",
        "# Y = [\"Pardon\", \"Reprieve\", \"Amnesty\", \"Lenient\", \"Mercy\"]\n",
        "\n",
        "# # # Modified Attributes\n",
        "# # X = [\"Punishment\", \"Penalty\", \"Retribution\", \"Discipline\", \"Punitive\", \"Sanction\"]\n",
        "# # Y = [\"Forgiveness\", \"Pardon\", \"Reprieve\", \"Amnesty\", \"Lenient\", \"Mercy\"]\n",
        "\n",
        "# A = [\"Celebrate\", \"Enjoy\", \"Favorable\", \"Gorgeous\", \"Magnificent\", \"Triumph\"]\n",
        "# B = [\"Bothersome\", \"Hatred\", \"Hurtful\", \"Putrid\", \"Sickening\", \"Yucky\"]"
      ],
      "execution_count": null,
      "outputs": []
    },
    {
      "cell_type": "code",
      "metadata": {
        "id": "KrH7lZGaMaHb"
      },
      "source": [
        "# # Money - Love\n",
        "# X = [\"Affluence\", \"Wealth\", \"Investments\", \"Cash\"]\n",
        "# Y = [\"Affection\", \"Heart\", \"Relationship\", \"Romance\"]\n",
        "# A = [\"Adore\", \"Cheerful\", \"Euphoric\", \"Friendship\", \"Joyful\", \"Smiling\"]\n",
        "# B = [\"Aggravate\", \"Despise\", \"Failure\", \"Horrendous\", \"Nasty\", \"Repulsive\"]"
      ],
      "execution_count": null,
      "outputs": []
    },
    {
      "cell_type": "code",
      "metadata": {
        "id": "jnRoxv4xjC9V"
      },
      "source": [
        "def cos(v1, v2): \n",
        "  \"\"\"Returns the cosine similarity of 2 vectors of same dimesionality.\n",
        "\n",
        "    Arguments:\n",
        "    v1 -- Vector 1\n",
        "    v2 -- Vector 2\n",
        "    \"\"\"\n",
        "\n",
        "  num = np.dot(v1, v2)\n",
        "  denom = np.linalg.norm(v1) * np.linalg.norm(v2)\n",
        "  return num/denom"
      ],
      "execution_count": null,
      "outputs": []
    },
    {
      "cell_type": "code",
      "metadata": {
        "id": "aRVasHjIEKWH"
      },
      "source": [
        "def weat_swAB(w, A, B, embedding_type):  \n",
        "  \"\"\"Returns the association of a single word with the chosen attribute (eg. good/bad).\n",
        "\n",
        "    Arguments:\n",
        "    w -- The string(word) whose association with the chosen attribute you want to find\n",
        "    A -- List of Attribute words representing 1 end of the spectrum (eg. for the attribute Good/Bad, the list of words representing 'Good')\n",
        "    B -- List of Attribute words representing the other end of the spectrum (eg. for the attribute Good/Bad, the list of words representing 'Bad')\n",
        "    embedding_type -- The dictionary for the corpus algorithm pair being used in the current analysis (eg. for glove with common crawl, use embeddings_glove)\n",
        "    \"\"\"\n",
        "  A_list = []\n",
        "  B_list = []\n",
        "\n",
        "  for v in A:\n",
        "    A_list.append(cos(embedding_type[w], embedding_type[v]))\n",
        "  for v in B:\n",
        "    B_list.append(cos(embedding_type[w], embedding_type[v]))\n",
        "\n",
        "  A_array = np.array(A_list)\n",
        "  B_array = np.array(B_list)\n",
        "\n",
        "  return np.mean(A_array) - np.mean(B_array)"
      ],
      "execution_count": null,
      "outputs": []
    },
    {
      "cell_type": "code",
      "metadata": {
        "id": "UejJQGAgjCgj"
      },
      "source": [
        "def weat_ES(X, Y, A, B, embedding_type):\n",
        "  \"\"\"Returns the effect size of a pair of categories (eg Simple vs Difficult) with the chosen attribute (eg. good/bad).\n",
        "\n",
        "    Arguments:\n",
        "    X -- List of Category words representing 1 of the categories (eg. for Simple/Difficult, the list of words representing 'Simple')\n",
        "    Y -- List of Category words representing the other category (eg. for Simple/Difficult, the list of words representing 'Difficult')\n",
        "    A -- List of Attribute words representing 1 end of the spectrum (eg. for the attribute Good/Bad, the list of words representing 'Good')\n",
        "    B -- List of Attribute words representing the other end of the spectrum (eg. for the attribute Good/Bad, the list of words representing 'Bad')\n",
        "    embedding_type -- The dictionary for the corpus algorithm pair being used in the current analysis (eg. for glove with common crawl, use embeddings_glove)\n",
        "    \"\"\"\n",
        "  x_list = []\n",
        "  y_list = []\n",
        "\n",
        "  for x in X:\n",
        "    x_list.append(weat_swAB(x, A, B, embedding_type))\n",
        "  for y in Y:\n",
        "    y_list.append(weat_swAB(y, A, B, embedding_type))\n",
        "\n",
        "  x_array = np.array(x_list)\n",
        "  y_array = np.array(y_list)\n",
        "\n",
        "  return (np.mean(x_array) - np.mean(y_array))/(np.std(np.concatenate((x_array, y_array)), ddof = 1))"
      ],
      "execution_count": null,
      "outputs": []
    },
    {
      "cell_type": "code",
      "metadata": {
        "id": "AAjZErN9WDd-"
      },
      "source": [
        "def test_statistic(X, Y, A, B, embedding_type):\n",
        "   \"\"\"Returns the test statistic given the 2 sets of category stimuli and attribute stimuli.\n",
        "\n",
        "    Arguments:\n",
        "    X -- List of Category words representing 1 of the categories (eg. for Simple/Difficult, the list of words representing 'Simple')\n",
        "    Y -- List of Category words representing the other category (eg. for Simple/Difficult, the list of words representing 'Difficult')\n",
        "    A -- List of Attribute words representing 1 end of the spectrum (eg. for the attribute Good/Bad, the list of words representing 'Good')\n",
        "    B -- List of Attribute words representing the other end of the spectrum (eg. for the attribute Good/Bad, the list of words representing 'Bad')\n",
        "    embedding_type -- The dictionary for the corpus algorithm pair being used in the current analysis (eg. for glove with common crawl, use embeddings_glove)\n",
        "    \"\"\"\n",
        "  x_list = []\n",
        "  y_list = []\n",
        "\n",
        "  for x in X:\n",
        "    x_list.append(weat_swAB(x, A, B, embedding_type))\n",
        "  for y in Y:\n",
        "    y_list.append(weat_swAB(y, A, B, embedding_type))\n",
        "\n",
        "  x_array = np.array(x_list)\n",
        "  y_array = np.array(y_list)\n",
        "\n",
        "  return np.sum(x_array) - np.sum(y_array)"
      ],
      "execution_count": null,
      "outputs": []
    },
    {
      "cell_type": "code",
      "metadata": {
        "id": "5GtBNZFrSLCX"
      },
      "source": [
        "def random_permutation(targets, r):\n",
        "  \"\"\"Returns a random permutation of a fixed of a chosed list.\n",
        "\n",
        "    Arguments:\n",
        "    targets -- The list whose permutation is to be generated\n",
        "    r -- Size of the permutation\n",
        "    \"\"\"\n",
        "  return random.sample(targets, r)"
      ],
      "execution_count": null,
      "outputs": []
    },
    {
      "cell_type": "markdown",
      "metadata": {
        "id": "CU7KnSNvpX_k"
      },
      "source": [
        "Took help from https://github.com/jsedoc/ConceptorDebias/blob/master/WEAT/WEAT.ipynb"
      ]
    },
    {
      "cell_type": "code",
      "metadata": {
        "id": "7rqBYeM6VySD"
      },
      "source": [
        "def p_value_weat(X, Y, A, B, embedding_type, iterations):\n",
        "  \"\"\"Returns the p-value given a pair of categories (eg Simple vs Difficult) and the chosen attribute (eg. good/bad).\n",
        "\n",
        "    Arguments:\n",
        "    X -- List of Category words representing 1 of the categories (eg. for Simple/Difficult, the list of words representing 'Simple')\n",
        "    Y -- List of Category words representing the other category (eg. for Simple/Difficult, the list of words representing 'Difficult')\n",
        "    A -- List of Attribute words representing 1 end of the spectrum (eg. for the attribute Good/Bad, the list of words representing 'Good')\n",
        "    B -- List of Attribute words representing the other end of the spectrum (eg. for the attribute Good/Bad, the list of words representing 'Bad')\n",
        "    embedding_type -- The dictionary for the corpus algorithm pair being used in the current analysis (eg. for glove with common crawl, use embeddings_glove)\n",
        "    iterations -- Number of permutations you want to generate (The more you generate, the more accurate the result is)\n",
        "    \"\"\"\n",
        "  X_Y = X + Y\n",
        "  size_of_permutation = len(X)\n",
        "  permutations = []\n",
        "  test_statistics_permutations = []\n",
        "  condition_satisfied = []\n",
        "  count = 0\n",
        "\n",
        "  while iterations != 0:\n",
        "    permutations.append(random_permutation(X_Y, size_of_permutation))\n",
        "    iterations = iterations - 1\n",
        "\n",
        "  for Xi in permutations:\n",
        "    count = count + 1\n",
        "    Yi = filterfalse(lambda w:w in Xi, X_Y)\n",
        "    test_statistics_permutations.append(test_statistic(Xi, Yi, A, B, embedding_type))\n",
        "\n",
        "  overall_test_statistic = test_statistic(X, Y, A, B, embedding_type)\n",
        "\n",
        "  condition_satisfied = [p > overall_test_statistic for p in test_statistics_permutations]\n",
        "\n",
        "  condition_satisfied_array = np.array(condition_satisfied)\n",
        "\n",
        "  return condition_satisfied_array.sum()/condition_satisfied_array.size"
      ],
      "execution_count": null,
      "outputs": []
    },
    {
      "cell_type": "code",
      "metadata": {
        "id": "MOdGp9T1uw_d"
      },
      "source": [
        "# Capitalized\n",
        "\n",
        "# Valenced 1\n",
        "A = [\"Love\", \"Cheer\", \"Friend\", \"Pleasure\", \"Paradise\", \"Splendid\"]\n",
        "B = [\"Abuse\", \"Grief\", \"Poison\", \"Sadness\", \"Pain\", \"Bomb\"]\n",
        "\n",
        "# # Valenced 2\n",
        "# A = [\"Adore\", \"Cheerful\", \"Euphoric\", \"Friendship\", \"Joyful\", \"Smiling\"]\n",
        "# B = [\"Aggravate\", \"Despise\", \"Failure\", \"Horrendous\", \"Nasty\", \"Repulsive\"]\n",
        "\n",
        "# # Valenced 3\n",
        "# A = [\"Affectionate\", \"Cherish\", \"Excellent\", \"Glad\", \"Joyous\", \"Spectacular\"]\n",
        "# B = [\"Angry\", \"Detest\", \"Ghastly\", \"Horrible\", \"Negative\", \"Ugly\"]\n",
        "\n",
        "# # Valenced 4\n",
        "# A = [\"Appealing\", \"Delight\", \"Excitement\", \"Glee\", \"Laughing\", \"Splendid\"]\n",
        "# B = [\"Animosity\", \"Dirty\", \"Gross\", \"Evil\", \"Neglected\", \"Rotten\"]\n",
        "\n",
        "# # Valenced 5\n",
        "# A = [\"Attractive\", \"Delightful\", \"Fabulous\", \"Glorious\", \"Likeable\", \"Pleasing\"]\n",
        "# B = [\"Annoy\", \"Disaster\", \"Grotesque\", \"Horrific\", \"Noxious\", \"Scorn\"]\n",
        "\n",
        "# # Valenced 6\n",
        "# A = [\"Beautiful\", \"Fantastic\", \"Happy\", \"Lovely\", \"Pleasure\", \"Terrific\"]\n",
        "# B = [\"Awful\", \"Disgust\", \"Hate\", \"Humiliate\", \"Selfish\", \"Tragic\"]\n",
        "\n",
        "# # Valenced 7\n",
        "# A = [\"Celebrate\", \"Enjoy\", \"Favorable\", \"Gorgeous\", \"Magnificent\", \"Triumph\"]\n",
        "# B = [\"Bothersome\", \"Hatred\", \"Hurtful\", \"Putrid\", \"Sickening\", \"Yucky\"]\n",
        "\n",
        "# # Combined stilumlus sets\n",
        "# A = [\"Love\", \"Cheer\", \"Friend\", \"Pleasure\", \"Paradise\", \"Splendid\", \"Adore\", \"Cheerful\", \"Euphoric\", \"Friendship\", \"Joyful\", \"Smiling\", \"Affectionate\", \"Cherish\", \"Excellent\", \"Glad\", \"Joyous\", \"Spectacular\", \"Appealing\", \"Delight\", \"Excitement\", \"Glee\", \"Laughing\", \"Splendid\", \"Attractive\", \"Delightful\", \"Fabulous\", \"Glorious\", \"Likeable\", \"Pleasing\", \"Beautiful\", \"Fantastic\", \"Happy\", \"Lovely\", \"Pleasure\", \"Terrific\", \"Celebrate\", \"Enjoy\", \"Favorable\", \"Gorgeous\", \"Magnificent\", \"Triumph\"]\n",
        "# B = [\"Abuse\", \"Grief\", \"Poison\", \"Sadness\", \"Pain\", \"Bomb\", \"Aggravate\", \"Despise\", \"Failure\", \"Horrendous\", \"Nasty\", \"Repulsive\", \"Angry\", \"Detest\", \"Ghastly\", \"Horrible\", \"Negative\", \"Ugly\", \"Animosity\", \"Dirty\", \"Gross\", \"Evil\", \"Neglected\", \"Rotten\", \"Annoy\", \"Disaster\", \"Grotesque\", \"Horrific\", \"Noxious\", \"Scorn\", \"Awful\", \"Disgust\", \"Hate\", \"Humiliate\", \"Selfish\", \"Tragic\", \"Bothersome\", \"Hatred\", \"Hurtful\", \"Putrid\", \"Sickening\", \"Yucky\"]\n",
        "\n",
        "Y = [\"Complicated\", \"Challenging\", \"Puzzling\", \"Baffling\"]\n",
        "X = [\"Easy\", \"Elementary\", \"Straightforward\", \"Effortless\"]"
      ],
      "execution_count": null,
      "outputs": []
    },
    {
      "cell_type": "code",
      "metadata": {
        "colab": {
          "base_uri": "https://localhost:8080/"
        },
        "id": "xH-aPekAnrPZ",
        "outputId": "de3be110-8dc0-4a53-e7f2-77b617686813"
      },
      "source": [
        "print(\"Glove, Common Crawl -\", weat_ES(X, Y, A, B, embeddings_glove))\n",
        "# print(\"Fastext, Common Crawl -\", weat_ES(X, Y, A, B, embeddings_fastext_cc))\n",
        "# print(\"Glove, Wikipedia -\", weat_ES(X, Y, A, B, embeddings_glove_wiki_gw))\n",
        "# print(\"Fastext, Wikipedia -\", weat_ES(X, Y, A, B, embeddings_fastext_wiki))\n",
        "# print(\"Word2Vec, GoogleNews -\", weat_ES(X, Y, A, B, embeddings_word2vec))"
      ],
      "execution_count": null,
      "outputs": [
        {
          "output_type": "stream",
          "name": "stdout",
          "text": [
            "Glove, Common Crawl - 1.5861425\n"
          ]
        }
      ]
    },
    {
      "cell_type": "code",
      "metadata": {
        "colab": {
          "base_uri": "https://localhost:8080/"
        },
        "id": "_ZDQhVjunsBN",
        "outputId": "5cad5f53-7949-4570-b365-8dd3005d584b"
      },
      "source": [
        "print(\"Glove, Common Crawl -\", p_value_weat(X, Y, A, B, embeddings_glove, 1000))\n",
        "# print(\"Fastext, Common Crawl -\", p_value_weat(X, Y, A, B, embeddings_fastext_cc, 1000))\n",
        "# print(\"Glove, Wikipedia -\", p_value_weat(X, Y, A, B, embeddings_glove_wiki_gw, 1000))\n",
        "# print(\"Fastext, Wikipedia -\", p_value_weat(X, Y, A, B, embeddings_fastext_wiki, 1000))\n",
        "# print(\"Word2Vec, GoogleNews -\", p_value_weat(X, Y, A, B, embeddings_word2vec, 1000))"
      ],
      "execution_count": null,
      "outputs": [
        {
          "output_type": "stream",
          "name": "stdout",
          "text": [
            "Glove, Common Crawl - 0.0\n"
          ]
        }
      ]
    },
    {
      "cell_type": "code",
      "metadata": {
        "id": "gl2xZsawAgea"
      },
      "source": [
        "# # Small Letters\n",
        "\n",
        "# # Valenced 1\n",
        "# A = [\"love\", \"cheer\", \"friend\", \"pleasure\", \"paradise\", \"splendid\"]\n",
        "# B = [\"abuse\", \"grief\", \"poison\", \"sadness\", \"pain\", \"bomb\"]\n",
        "\n",
        "# Valenced 2\n",
        "A = [\"adore\", \"cheerful\", \"euphoric\", \"friendship\", \"joyful\", \"smiling\"]\n",
        "B = [\"aggravate\", \"despise\", \"failure\", \"horrendous\", \"nasty\", \"repulsive\"]\n",
        "\n",
        "# # Valenced 3\n",
        "# A = [\"affectionate\", \"cherish\", \"excellent\", \"glad\", \"joyous\", \"spectacular\"]\n",
        "# B = [\"angry\", \"detest\", \"ghastly\", \"horrible\", \"negative\", \"ugly\"]\n",
        "\n",
        "# # Valenced 4\n",
        "# A = [\"appealing\", \"delight\", \"excitement\", \"glee\", \"laughing\", \"splendid\"]\n",
        "# B = [\"animosity\", \"dirty\", \"gross\", \"evil\", \"neglected\", \"rotten\"]\n",
        "\n",
        "# # Valenced 5\n",
        "# A = [\"attractive\", \"delightful\", \"fabulous\", \"glorious\", \"likeable\", \"pleasing\"]\n",
        "# B = [\"annoy\", \"disaster\", \"grotesque\", \"horrific\", \"noxious\", \"scorn\"]\n",
        "\n",
        "# # Valenced 6\n",
        "# A = [\"beautiful\", \"fantastic\", \"happy\", \"lovely\", \"pleasure\", \"terrific\"]\n",
        "# B = [\"awful\", \"disgust\", \"hate\", \"humiliate\", \"selfish\", \"tragic\"]\n",
        "\n",
        "# # Valenced 7\n",
        "# A = [\"celebrate\", \"enjoy\", \"favorable\", \"gorgeous\", \"magnificent\", \"triumph\"]\n",
        "# B = [\"bothersome\", \"hatred\", \"hurtful\", \"putrid\", \"sickening\", \"yucky\"]\n",
        "\n",
        "# # Combined Stimuli Lists\n",
        "# A = [\"love\", \"cheer\", \"friend\", \"pleasure\", \"paradise\", \"splendid\", \"adore\", \"cheerful\", \"euphoric\", \"friendship\", \"joyful\", \"smiling\", \"affectionate\", \"cherish\", \"excellent\", \"glad\", \"joyous\", \"spectacular\", \"appealing\", \"delight\", \"excitement\", \"glee\", \"laughing\", \"splendid\", \"attractive\", \"delightful\", \"fabulous\", \"glorious\", \"likeable\", \"pleasing\", \"beautiful\", \"fantastic\", \"happy\", \"lovely\", \"pleasure\", \"terrific\", \"celebrate\", \"enjoy\", \"favorable\", \"gorgeous\", \"magnificent\", \"triumph\"]\n",
        "# B = [\"abuse\", \"grief\", \"poison\", \"sadness\", \"pain\", \"bomb\", \"aggravate\", \"despise\", \"failure\", \"horrendous\", \"nasty\", \"repulsive\", \"angry\", \"detest\", \"ghastly\", \"horrible\", \"negative\", \"ugly\", \"animosity\", \"dirty\", \"gross\", \"evil\", \"neglected\", \"rotten\", \"annoy\", \"disaster\", \"grotesque\", \"horrific\", \"noxious\", \"scorn\", \"awful\", \"disgust\", \"hate\", \"humiliate\", \"selfish\", \"tragic\", \"bothersome\", \"hatred\", \"hurtful\", \"putrid\", \"sickening\", \"yucky\"]\n",
        "\n",
        "Y = [\"complicated\", \"challenging\", \"puzzling\", \"baffling\"]\n",
        "X = [\"easy\", \"elementary\", \"straightforward\", \"effortless\"]"
      ],
      "execution_count": null,
      "outputs": []
    },
    {
      "cell_type": "code",
      "metadata": {
        "colab": {
          "base_uri": "https://localhost:8080/"
        },
        "id": "8cdpzfZTpZe_",
        "outputId": "ff5c6cb6-6a0d-4c37-8698-bd7abc071530"
      },
      "source": [
        "# print(\"Glove, Common Crawl -\", weat_ES(X, Y, A, B, embeddings_glove))\n",
        "# print(\"Fastext, Common Crawl -\", weat_ES(X, Y, A, B, embeddings_fastext_cc))\n",
        "# print(\"Glove, Wikipedia -\", weat_ES(X, Y, A, B, embeddings_glove_wiki_gw))\n",
        "# print(\"Fastext, Wikipedia -\", weat_ES(X, Y, A, B, embeddings_fastext_wiki))\n",
        "print(\"Word2Vec, GoogleNews -\", weat_ES(X, Y, A, B, embeddings_word2vec))"
      ],
      "execution_count": null,
      "outputs": [
        {
          "name": "stdout",
          "output_type": "stream",
          "text": [
            "Word2Vec, GoogleNews - 0.8625596\n"
          ]
        }
      ]
    },
    {
      "cell_type": "code",
      "metadata": {
        "colab": {
          "background_save": true,
          "base_uri": "https://localhost:8080/"
        },
        "id": "9D3zkTzApaCd",
        "outputId": "569667e5-4501-4d8d-d9f7-097011cf2aae"
      },
      "source": [
        "# print(\"Glove, Common Crawl -\", p_value_weat(X, Y, A, B, embeddings_glove, 1000))\n",
        "# print(\"Fastext, Common Crawl -\", p_value_weat(X, Y, A, B, embeddings_fastext_cc, 1000))\n",
        "# print(\"Glove, Wikipedia -\", p_value_weat(X, Y, A, B, embeddings_glove_wiki_gw, 1000))\n",
        "# print(\"Fastext, Wikipedia -\", p_value_weat(X, Y, A, B, embeddings_fastext_wiki, 1000))\n",
        "print(\"Word2Vec, GoogleNews -\", p_value_weat(X, Y, A, B, embeddings_word2vec, 1000))"
      ],
      "execution_count": null,
      "outputs": [
        {
          "name": "stdout",
          "output_type": "stream",
          "text": [
            "Word2Vec, GoogleNews - 0.0\n"
          ]
        }
      ]
    },
    {
      "cell_type": "code",
      "metadata": {
        "id": "h_4P7ycDD41O"
      },
      "source": [
        "# # Capitalized and lowercase tokens\n",
        "\n",
        "# # Valenced 1\n",
        "# A = [\"Love\", \"Cheer\", \"Friend\", \"Pleasure\", \"Paradise\", \"Splendid\", \"love\", \"cheer\", \"friend\", \"pleasure\", \"paradise\", \"splendid\"]\n",
        "# B = [\"Abuse\", \"Grief\", \"Poison\", \"Sadness\", \"Pain\", \"Bomb\", \"abuse\", \"grief\", \"poison\", \"sadness\", \"pain\", \"bomb\"]\n",
        "\n",
        "# # Valenced 2\n",
        "# A = [\"Adore\", \"Cheerful\", \"Euphoric\", \"Friendship\", \"Joyful\", \"Smiling\", \"adore\", \"cheerful\", \"euphoric\", \"friendship\", \"joyful\", \"smiling\"]\n",
        "# B = [\"Aggravate\", \"Despise\", \"Failure\", \"Horrendous\", \"Nasty\", \"Repulsive\", \"aggravate\", \"despise\", \"failure\", \"horrendous\", \"nasty\", \"repulsive\"]\n",
        "\n",
        "# # Valenced 3\n",
        "# A = [\"Affectionate\", \"Cherish\", \"Excellent\", \"Glad\", \"Joyous\", \"Spectacular\", \"affectionate\", \"cherish\", \"excellent\", \"glad\", \"joyous\", \"spectacular\"]\n",
        "# B = [\"Angry\", \"Detest\", \"Ghastly\", \"Horrible\", \"Negative\", \"Ugly\", \"angry\", \"detest\", \"ghastly\", \"horrible\", \"negative\", \"ugly\"]\n",
        "\n",
        "# # Valenced 4\n",
        "# A = [\"Appealing\", \"Delight\", \"Excitement\", \"Glee\", \"Laughing\", \"Splendid\", \"appealing\", \"delight\", \"excitement\", \"glee\", \"laughing\", \"splendid\"]\n",
        "# B = [\"Animosity\", \"Dirty\", \"Gross\", \"Evil\", \"Neglected\", \"Rotten\", \"animosity\", \"dirty\", \"gross\", \"evil\", \"neglected\", \"rotten\"]\n",
        "\n",
        "# # Valenced 5\n",
        "# A = [\"Attractive\", \"Delightful\", \"Fabulous\", \"Glorious\", \"Likeable\", \"Pleasing\", \"attractive\", \"delightful\", \"fabulous\", \"glorious\", \"likeable\", \"pleasing\"]\n",
        "# B = [\"Annoy\", \"Disaster\", \"Grotesque\", \"Horrific\", \"Noxious\", \"Scorn\", \"annoy\", \"disaster\", \"grotesque\", \"horrific\", \"noxious\", \"scorn\"]\n",
        "\n",
        "# # Valenced 6\n",
        "# A = [\"Beautiful\", \"Fantastic\", \"Happy\", \"Lovely\", \"Pleasure\", \"Terrific\", \"beautiful\", \"fantastic\", \"happy\", \"lovely\", \"pleasure\", \"terrific\"]\n",
        "# B = [\"Awful\", \"Disgust\", \"Hate\", \"Humiliate\", \"Selfish\", \"Tragic\", \"awful\", \"disgust\", \"hate\", \"humiliate\", \"selfish\", \"tragic\"]\n",
        "\n",
        "# # Valenced 7\n",
        "# A = [\"Celebrate\", \"Enjoy\", \"Favorable\", \"Gorgeous\", \"Magnificent\", \"Triumph\", \"celebrate\", \"enjoy\", \"favorable\", \"gorgeous\", \"magnificent\", \"triumph\"]\n",
        "# B = [\"Bothersome\", \"Hatred\", \"Hurtful\", \"Putrid\", \"Sickening\", \"Yucky\", \"bothersome\", \"hatred\", \"hurtful\", \"putrid\", \"sickening\", \"yucky\"]\n",
        "\n",
        "# # Combined stilumlus sets\n",
        "# A = [\"Love\", \"Cheer\", \"Friend\", \"Pleasure\", \"Paradise\", \"Splendid\", \"Adore\", \"Cheerful\", \"Euphoric\", \"Friendship\", \"Joyful\", \"Smiling\", \"Affectionate\", \"Cherish\", \"Excellent\", \"Glad\", \"Joyous\", \"Spectacular\", \"Appealing\", \"Delight\", \"Excitement\", \"Glee\", \"Laughing\", \"Splendid\", \"Attractive\", \"Delightful\", \"Fabulous\", \"Glorious\", \"Likeable\", \"Pleasing\", \"Beautiful\", \"Fantastic\", \"Happy\", \"Lovely\", \"Pleasure\", \"Terrific\", \"Celebrate\", \"Enjoy\", \"Favorable\", \"Gorgeous\", \"Magnificent\", \"Triumph\", \"love\", \"cheer\", \"friend\", \"pleasure\", \"paradise\", \"splendid\", \"adore\", \"cheerful\", \"euphoric\", \"friendship\", \"joyful\", \"smiling\", \"affectionate\", \"cherish\", \"excellent\", \"glad\", \"joyous\", \"spectacular\", \"appealing\", \"delight\", \"excitement\", \"glee\", \"laughing\", \"splendid\", \"attractive\", \"delightful\", \"fabulous\", \"glorious\", \"likeable\", \"pleasing\", \"beautiful\", \"fantastic\", \"happy\", \"lovely\", \"pleasure\", \"terrific\", \"celebrate\", \"enjoy\", \"favorable\", \"gorgeous\", \"magnificent\", \"triumph\"]\n",
        "# B = [\"Abuse\", \"Grief\", \"Poison\", \"Sadness\", \"Pain\", \"Bomb\", \"Aggravate\", \"Despise\", \"Failure\", \"Horrendous\", \"Nasty\", \"Repulsive\", \"Angry\", \"Detest\", \"Ghastly\", \"Horrible\", \"Negative\", \"Ugly\", \"Animosity\", \"Dirty\", \"Gross\", \"Evil\", \"Neglected\", \"Rotten\", \"Annoy\", \"Disaster\", \"Grotesque\", \"Horrific\", \"Noxious\", \"Scorn\", \"Awful\", \"Disgust\", \"Hate\", \"Humiliate\", \"Selfish\", \"Tragic\", \"Bothersome\", \"Hatred\", \"Hurtful\", \"Putrid\", \"Sickening\", \"Yucky\", \"abuse\", \"grief\", \"poison\", \"sadness\", \"pain\", \"bomb\", \"aggravate\", \"despise\", \"failure\", \"horrendous\", \"nasty\", \"repulsive\", \"angry\", \"detest\", \"ghastly\", \"horrible\", \"negative\", \"ugly\", \"animosity\", \"dirty\", \"gross\", \"evil\", \"neglected\", \"rotten\", \"annoy\", \"disaster\", \"grotesque\", \"horrific\", \"noxious\", \"scorn\", \"awful\", \"disgust\", \"hate\", \"humiliate\", \"selfish\", \"tragic\", \"bothersome\", \"hatred\", \"hurtful\", \"putrid\", \"sickening\", \"yucky\"]"
      ],
      "execution_count": null,
      "outputs": []
    },
    {
      "cell_type": "code",
      "metadata": {
        "colab": {
          "base_uri": "https://localhost:8080/"
        },
        "id": "lcRc-LEB0nVX",
        "outputId": "2018cdf2-cb96-4132-ef79-989f4682934c"
      },
      "source": [
        "# print(\"Glove, Common Crawl -\", weat_ES(X, Y, A, B, embeddings_glove))\n",
        "# print(\"Fastext, Common Crawl -\", weat_ES(X, Y, A, B, embeddings_fastext_cc))\n",
        "# print(\"Glove, Wikipedia -\", weat_ES(X, Y, A, B, embeddings_glove_wiki_gw))\n",
        "# print(\"Fastext, Wikipedia -\", weat_ES(X, Y, A, B, embeddings_fastext_wiki))\n",
        "print(\"Word2Vec, GoogleNews -\", weat_ES(X, Y, A, B, embeddings_word2vec))"
      ],
      "execution_count": null,
      "outputs": [
        {
          "name": "stdout",
          "output_type": "stream",
          "text": [
            "Word2Vec, GoogleNews - 1.6744921\n"
          ]
        }
      ]
    },
    {
      "cell_type": "code",
      "metadata": {
        "colab": {
          "base_uri": "https://localhost:8080/"
        },
        "id": "S2Yplg_6pk_s",
        "outputId": "752d49ea-6663-4f32-8298-b468aa346fdc"
      },
      "source": [
        "# print(\"Glove, Common Crawl -\", p_value_weat(X, Y, A, B, embeddings_glove, 1000))\n",
        "# print(\"Fastext, Common Crawl -\", p_value_weat(X, Y, A, B, embeddings_fastext_cc, 1000))\n",
        "# print(\"Glove, Wikipedia -\", p_value_weat(X, Y, A, B, embeddings_glove_wiki_gw, 1000))\n",
        "# print(\"Fastext, Wikipedia -\", p_value_weat(X, Y, A, B, embeddings_fastext_wiki, 1000))\n",
        "print(\"Word2Vec, GoogleNews -\", p_value_weat(X, Y, A, B, embeddings_word2vec, 1000))"
      ],
      "execution_count": null,
      "outputs": [
        {
          "name": "stdout",
          "output_type": "stream",
          "text": [
            "Word2Vec, GoogleNews - 0.0\n"
          ]
        }
      ]
    },
    {
      "cell_type": "markdown",
      "metadata": {
        "id": "IW86eJu6q14t"
      },
      "source": [
        "#WEFAT"
      ]
    },
    {
      "cell_type": "code",
      "metadata": {
        "id": "-XDTcUc8-PW8"
      },
      "source": [
        "# # Artists - Musicians\n",
        "# X = [\"Monet\", \"Picasso\", \"Michaelangelo\"]\n",
        "# Y = [\"Mozart\", \"Beethoven\", \"Bach\"]\n",
        "# # Valenced 4\n",
        "# A = [\"Appealing\", \"Delight\", \"Excitement\", \"Glee\", \"Laughing\", \"Splendid\"]\n",
        "# B = [\"Animosity\", \"Dirty\", \"Gross\", \"Evil\", \"Neglected\", \"Rotten\"]"
      ],
      "execution_count": null,
      "outputs": []
    },
    {
      "cell_type": "code",
      "metadata": {
        "id": "z306yc46iX8z"
      },
      "source": [
        "# # Difficult - Simple\n",
        "# X = [\"Complicated\", \"Challenging\", \"Puzzling\", \"Baffling\"]\n",
        "# Y = [\"Easy\", \"Elementary\", \"Straightforward\", \"Effortless\"]\n",
        "# A = [\"Appealing\", \"Delight\", \"Excitement\", \"Glee\", \"Laughing\", \"Splendid\"]\n",
        "# B = [\"Animosity\", \"Dirty\", \"Gross\", \"Evil\", \"Neglected\", \"Rotten\"]\n"
      ],
      "execution_count": null,
      "outputs": []
    },
    {
      "cell_type": "code",
      "metadata": {
        "id": "0QkbOlYCcMlu"
      },
      "source": [
        "A = [\"Appealing\", \"Delight\", \"Excitement\", \"Glee\", \"Laughing\", \"Splendid\"]\n",
        "B = [\"Animosity\", \"Dirty\", \"Gross\", \"Evil\", \"Neglected\", \"Rotten\"]"
      ],
      "execution_count": null,
      "outputs": []
    },
    {
      "cell_type": "code",
      "metadata": {
        "id": "6NkEYlXFY_31"
      },
      "source": [
        "# # Combined stilumlus sets\n",
        "# A = [\"Love\", \"Cheer\", \"Friend\", \"Pleasure\", \"Paradise\", \"Splendid\", \"Adore\", \"Cheerful\", \"Euphoric\", \"Friendship\", \"Joyful\", \"Smiling\", \"Affectionate\", \"Cherish\", \"Excellent\", \"Glad\", \"Joyous\", \"Spectacular\", \"Appealing\", \"Delight\", \"Excitement\", \"Glee\", \"Laughing\", \"Splendid\", \"Attractive\", \"Delightful\", \"Fabulous\", \"Glorious\", \"Likeable\", \"Pleasing\", \"Beautiful\", \"Fantastic\", \"Happy\", \"Lovely\", \"Pleasure\", \"Terrific\", \"Celebrate\", \"Enjoy\", \"Favorable\", \"Gorgeous\", \"Magnificent\", \"Triumph\"]\n",
        "# B = [\"Abuse\", \"Grief\", \"Poison\", \"Sadness\", \"Pain\", \"Bomb\", \"Aggravate\", \"Despise\", \"Failure\", \"Horrendous\", \"Nasty\", \"Repulsive\", \"Angry\", \"Detest\", \"Ghastly\", \"Horrible\", \"Negative\", \"Ugly\", \"Animosity\", \"Dirty\", \"Gross\", \"Evil\", \"Neglected\", \"Rotten\", \"Annoy\", \"Disaster\", \"Grotesque\", \"Horrific\", \"Noxious\", \"Scorn\", \"Awful\", \"Disgust\", \"Hate\", \"Humiliate\", \"Selfish\", \"Tragic\", \"Bothersome\", \"Hatred\", \"Hurtful\", \"Putrid\", \"Sickening\", \"Yucky\"]"
      ],
      "execution_count": null,
      "outputs": []
    },
    {
      "cell_type": "code",
      "metadata": {
        "id": "ZfhZiSikZYni"
      },
      "source": [
        "# # Atheism - Religion\n",
        "# X = [\"Atheist\", \"Agnostic\", \"Skeptic\"]\n",
        "# Y = [\"Churchgoer\", \"Religious\", \"Theist\"]\n",
        "# # Valenced 4\n",
        "# A = [\"Appealing\", \"Delight\", \"Excitement\", \"Glee\", \"Laughing\", \"Splendid\"]\n",
        "# B = [\"Animosity\", \"Dirty\", \"Gross\", \"Evil\", \"Neglected\", \"Rotten\"]\n",
        "\n",
        "# # D value: -1.3912436 P value: 0.955"
      ],
      "execution_count": null,
      "outputs": []
    },
    {
      "cell_type": "code",
      "metadata": {
        "id": "saJeJ8km1RtC"
      },
      "source": [
        "# A = [\"Affectionate\", \"Cherish\", \"Excellent\", \"Glad\", \"Joyous\", \"Spectacular\"]\n",
        "# B = [\"Angry\", \"Detest\", \"Ghastly\", \"Horrible\", \"Negative\", \"Ugly\"]"
      ],
      "execution_count": null,
      "outputs": []
    },
    {
      "cell_type": "code",
      "metadata": {
        "id": "Sjwyvqnm9mwi"
      },
      "source": [
        "# Money - Love\n",
        "X = [\"Affluence\", \"Wealth\", \"Investments\", \"Cash\"]\n",
        "Y = [\"Affection\", \"Heart\", \"Relationship\", \"Romance\"]\n",
        "A = [\"Adore\", \"Cheerful\", \"Euphoric\", \"Friendship\", \"Joyful\", \"Smiling\"]\n",
        "B = [\"Aggravate\", \"Despise\", \"Failure\", \"Horrendous\", \"Nasty\", \"Repulsive\"]"
      ],
      "execution_count": null,
      "outputs": []
    },
    {
      "cell_type": "code",
      "metadata": {
        "id": "5sPEgH5nZrHl"
      },
      "source": [
        "def wefat_ES(w, A, B):\n",
        "  A_B = A + B\n",
        "  cos_A_B = []\n",
        "  for x in A_B:\n",
        "    cos_A_B.append(cos(embeddings_index[w], embeddings_index[x]))\n",
        "  cos_A_B_array = np.array(cos_A_B)\n",
        "\n",
        "  return weat_swAB(w, A, B)/np.std(cos_A_B_array, ddof = 1)"
      ],
      "execution_count": null,
      "outputs": []
    },
    {
      "cell_type": "code",
      "metadata": {
        "id": "yUIjra8-jbRO"
      },
      "source": [
        "def p_value_wefat(w, A, B, iterations):\n",
        "  A_B = A + B\n",
        "  size_of_permutation = len(A)\n",
        "  permutations = []\n",
        "  test_statistics_permutations = []\n",
        "  condition_satisfied = []\n",
        "\n",
        "  while iterations != 0:\n",
        "    permutations.append(random_permutation(A_B, size_of_permutation))\n",
        "    iterations = iterations - 1\n",
        "\n",
        "  for Ai in permutations:\n",
        "    Bi = filterfalse(lambda w:w in Ai, A_B)\n",
        "    test_statistics_permutations.append(weat_swAB(w, Ai, Bi))\n",
        "\n",
        "  overall_test_statistic = weat_swAB(w, A, B)\n",
        "\n",
        "  condition_satisfied = [p > overall_test_statistic for p in test_statistics_permutations]\n",
        "\n",
        "  condition_satisfied_array = np.array(condition_satisfied)\n",
        "\n",
        "  return condition_satisfied_array.sum()/condition_satisfied_array.size"
      ],
      "execution_count": null,
      "outputs": []
    },
    {
      "cell_type": "code",
      "metadata": {
        "colab": {
          "base_uri": "https://localhost:8080/"
        },
        "id": "OyN-1j8Qjm_6",
        "outputId": "6e8d6953-6b00-447e-ee93-52c5a57211cc"
      },
      "source": [
        "\n",
        "for i in X:\n",
        "  print(i, wefat_ES(i, A, B))"
      ],
      "execution_count": null,
      "outputs": [
        {
          "name": "stdout",
          "output_type": "stream",
          "text": [
            "Affluence -0.20217516\n",
            "Wealth 0.40957984\n",
            "Investments 0.09382773\n",
            "Cash 0.18805064\n"
          ]
        }
      ]
    },
    {
      "cell_type": "code",
      "metadata": {
        "colab": {
          "base_uri": "https://localhost:8080/"
        },
        "id": "DaRs0gDsjvnJ",
        "outputId": "be1d1d6e-4825-4eaf-aea9-37c1c75347c8"
      },
      "source": [
        "p_value_wefat(\"Baffling\", A, B, 10000)"
      ],
      "execution_count": null,
      "outputs": [
        {
          "data": {
            "text/plain": [
              "0.9999"
            ]
          },
          "execution_count": 99,
          "metadata": {},
          "output_type": "execute_result"
        }
      ]
    },
    {
      "cell_type": "markdown",
      "metadata": {
        "id": "Acy6g3l38xQL"
      },
      "source": [
        "# MAC"
      ]
    },
    {
      "cell_type": "code",
      "metadata": {
        "id": "XkiaQoPz8zgy"
      },
      "source": [
        "def mac(w, A, B):\n",
        "  A_B = A + B\n",
        "  cos_A_B = []\n",
        "  for x in A_B:\n",
        "    cos_A_B.append(cos(embeddings_index[w], embeddings_index[x]))\n",
        "  cos_A_B_array = np.array(cos_A_B)\n",
        "\n",
        "  return weat_swAB(w, A, B)"
      ],
      "execution_count": null,
      "outputs": []
    },
    {
      "cell_type": "code",
      "metadata": {
        "colab": {
          "base_uri": "https://localhost:8080/"
        },
        "id": "lizrisJl9uN6",
        "outputId": "e8e27efd-8ebd-4021-c7b4-efac5b53be1b"
      },
      "source": [
        "for i in X:\n",
        "  print(i, mac(i, A, B))"
      ],
      "execution_count": null,
      "outputs": [
        {
          "name": "stdout",
          "output_type": "stream",
          "text": [
            "Affluence -0.01314345\n",
            "Wealth 0.03236956\n",
            "Investments 0.0063540386\n",
            "Cash 0.020097207\n"
          ]
        }
      ]
    },
    {
      "cell_type": "markdown",
      "metadata": {
        "id": "_F62aD6xpLTv"
      },
      "source": [
        "#Nearest Neighbours"
      ]
    },
    {
      "cell_type": "code",
      "metadata": {
        "id": "NaCKcVOhzzb-"
      },
      "source": [
        "# Appendiing all the words in vocabulary into a list\n",
        "words = []\n",
        "for w in embeddings_index:\n",
        "  words.append(w)"
      ],
      "execution_count": null,
      "outputs": []
    },
    {
      "cell_type": "code",
      "metadata": {
        "id": "MJWQaS-9WZRm"
      },
      "source": [
        "def similar_words(word, number):\n",
        "  \"\"\"Returns a chosen number of most similar words to a given word in terms of cosine similarity.\n",
        "\n",
        "    Arguments:\n",
        "    word -- The token whose most similar words you want to find\n",
        "    number -- The number of similar words you want to find\n",
        "    \"\"\"\n",
        "  similar_word = []\n",
        "\n",
        "  words_for_word = words.copy()\n",
        "\n",
        "  for w in words_for_word:\n",
        "    if embeddings_index[word].shape != embeddings_index[w].shape:\n",
        "      words_for_word.remove(w)\n",
        "\n",
        "  for w in words_for_word: # For some reason unless I run this code snippet twice all the words with different vector shapes aren't getting removed.\n",
        "    if embeddings_index[word].shape != embeddings_index[w].shape:\n",
        "      words_for_word.remove(w)\n",
        "\n",
        "  for w in words_for_word:\n",
        "    similar_word.append(cos(embeddings_index[word], embeddings_index[w]))\n",
        "  \n",
        "  similar_word_copy = similar_word.copy()\n",
        "\n",
        "  similar_word.sort(reverse = True)\n",
        "\n",
        "  relevant_indices = []\n",
        "\n",
        "  for i in range(number + 1):\n",
        "    relevant_indices.append(similar_word_copy.index(similar_word[i]))\n",
        "\n",
        "  ans = []\n",
        "\n",
        "  for i in relevant_indices:\n",
        "    ans.append(words_for_word[i])\n",
        "  \n",
        "  ans.remove(word)\n",
        "\n",
        "  return ans"
      ],
      "execution_count": null,
      "outputs": []
    },
    {
      "cell_type": "code",
      "metadata": {
        "colab": {
          "base_uri": "https://localhost:8080/"
        },
        "id": "Pg3Wzfm4qKP7",
        "outputId": "9fee4363-9320-4db1-b0bc-01784d7cd054"
      },
      "source": [
        "similar_words(\"Skeptic\", 100)"
      ],
      "execution_count": null,
      "outputs": [
        {
          "data": {
            "text/plain": [
              "['Skeptical',\n",
              " 'Skeptics',\n",
              " 'Atheist',\n",
              " 'skeptic',\n",
              " 'Skepticism',\n",
              " 'Shermer',\n",
              " 'Sceptic',\n",
              " 'Atheism',\n",
              " 'Believer',\n",
              " 'sceptic',\n",
              " 'Freethinker',\n",
              " 'Apologist',\n",
              " 'Debunking',\n",
              " 'Environmentalist',\n",
              " 'Pseudoscience',\n",
              " 'Theist',\n",
              " 'Creationist',\n",
              " 'Agnostic',\n",
              " 'Curmudgeon',\n",
              " 'skeptics',\n",
              " 'Atheists',\n",
              " 'Cynic',\n",
              " 'Sceptics',\n",
              " 'Thinker',\n",
              " 'theist',\n",
              " 'Rationalist',\n",
              " 'Creationism',\n",
              " 'Alarmist',\n",
              " 'SciAm',\n",
              " 'sceptics',\n",
              " 'Evolutionist',\n",
              " 'Freethought',\n",
              " 'CSICOP',\n",
              " 'Contrarian',\n",
              " 'Opinionated',\n",
              " 'Philosophical',\n",
              " 'Delusion',\n",
              " 'Athiest',\n",
              " 'Lomborg',\n",
              " 'debunker',\n",
              " 'Cynical',\n",
              " 'Humanist',\n",
              " 'Pundit',\n",
              " 'Infidel',\n",
              " 'warmist',\n",
              " 'Scientist',\n",
              " 'Apologetics',\n",
              " 'atheist',\n",
              " 'Dawkins',\n",
              " 'Philosopher',\n",
              " 'doubter',\n",
              " 'Astronomer',\n",
              " 'Objectivist',\n",
              " 'Anthropologist',\n",
              " 'Apostate',\n",
              " 'Oppressing',\n",
              " 'AGW',\n",
              " 'CAGW',\n",
              " 'JREF',\n",
              " 'Theism',\n",
              " 'Secular',\n",
              " 'Secularism',\n",
              " 'freethinker',\n",
              " 'debunking',\n",
              " 'Deniers',\n",
              " 'Sceptical',\n",
              " 'RealClimate',\n",
              " 'Humanism',\n",
              " 'freethought',\n",
              " 'debunkers',\n",
              " 'Godless',\n",
              " 'Ethicist',\n",
              " 'pseudoscience',\n",
              " 'Atheistic',\n",
              " 'Physicist',\n",
              " 'Darwinist',\n",
              " 'Monckton',\n",
              " 'Truther',\n",
              " 'Creationists',\n",
              " 'Doubting',\n",
              " 'Pharyngula',\n",
              " 'Conspiracy',\n",
              " 'Weirdo',\n",
              " 'Fortean',\n",
              " 'Heretical',\n",
              " 'creationist',\n",
              " 'Doubter',\n",
              " 'Theosophist',\n",
              " 'Monbiot',\n",
              " 'Alarmism',\n",
              " 'Inconvenient',\n",
              " 'Ranting',\n",
              " 'Libertarian',\n",
              " 'Denialism',\n",
              " 'Theists',\n",
              " 'Right-Wing',\n",
              " 'Warmist',\n",
              " 'Skepchick',\n",
              " 'Plait',\n",
              " 'athiest']"
            ]
          },
          "execution_count": 14,
          "metadata": {},
          "output_type": "execute_result"
        }
      ]
    },
    {
      "cell_type": "markdown",
      "metadata": {
        "id": "YvMYQjCXwX_C"
      },
      "source": [
        "# Science Religion Project"
      ]
    },
    {
      "cell_type": "code",
      "metadata": {
        "colab": {
          "base_uri": "https://localhost:8080/"
        },
        "id": "bEIJa19sw1b8",
        "outputId": "1920911c-4227-4c3a-d523-77139ad92999"
      },
      "source": [
        "similar_words(\"Judaism\", 40)"
      ],
      "execution_count": null,
      "outputs": [
        {
          "data": {
            "text/plain": [
              "['Christianity',\n",
              " 'Jewish',\n",
              " 'Torah',\n",
              " 'Zionism',\n",
              " 'Jews',\n",
              " 'Catholicism',\n",
              " 'Orthodoxy',\n",
              " 'Hinduism',\n",
              " 'religion',\n",
              " 'religions',\n",
              " 'Islam',\n",
              " 'judaism',\n",
              " 'Orthodox',\n",
              " 'Messianic',\n",
              " 'Jew',\n",
              " 'Rabbinic',\n",
              " 'Judeo-Christian',\n",
              " 'Talmud',\n",
              " 'Judiasm',\n",
              " 'Biblical',\n",
              " 'Protestantism',\n",
              " 'faiths',\n",
              " 'Jewry',\n",
              " 'rabbinic',\n",
              " 'Judaic',\n",
              " 'Mormonism',\n",
              " 'Buddhism',\n",
              " 'Kabbalah',\n",
              " 'monotheism',\n",
              " 'Abrahamic',\n",
              " 'Paganism',\n",
              " 'Religion',\n",
              " 'Religions',\n",
              " 'Rabbi',\n",
              " 'Talmudic',\n",
              " 'Jewishness',\n",
              " 'Hebrew',\n",
              " 'theology',\n",
              " 'Christians',\n",
              " 'religious']"
            ]
          },
          "execution_count": 17,
          "metadata": {},
          "output_type": "execute_result"
        }
      ]
    },
    {
      "cell_type": "code",
      "metadata": {
        "id": "zXm-Y5NnysEY"
      },
      "source": [
        "Islam_words = [\"Islam\", \"Islamic\", \"Muslim\", \"Islamist\", \"Moslem\", \"Quran\", \"Mosque\", \"Allah\"]\n",
        "Christianity_words = [\"Christianity\", \"Christ\", \"Bible\", \"Biblical\", \"Jesus\", \"Church\", \"Gospel\", \"Christendom\"]\n",
        "Judaism_words = [\"Judaism\", \"Jewish\", \"Jews\", \"Torah\", \"Rabbi\", \"Jew\", \"Talmud\", \"Rabbinic\"]\n",
        "# Christianity_words = [\"Catholicism\", \"Christians\", \"Protestantism\", \"Christ\", \"Biblical\", \"Jesus\", \"Catholic\", \"Protestant\", \"Christendom\"]"
      ],
      "execution_count": null,
      "outputs": []
    },
    {
      "cell_type": "code",
      "metadata": {
        "colab": {
          "base_uri": "https://localhost:8080/"
        },
        "id": "44DeoOqw1SGG",
        "outputId": "15288282-7ca5-479e-8077-b9c8b2407c33"
      },
      "source": [
        "cos(embeddings_index[\"Islam\"], embeddings_index[\"Mosque\"])"
      ],
      "execution_count": null,
      "outputs": [
        {
          "data": {
            "text/plain": [
              "0.5125293"
            ]
          },
          "execution_count": 32,
          "metadata": {},
          "output_type": "execute_result"
        }
      ]
    },
    {
      "cell_type": "code",
      "metadata": {
        "id": "qp9lZvWlzFS_"
      },
      "source": [
        "Good_words = [\"Good\", \"Champ\", \"Excellent\", \"Superb\", \"Smile\"]\n",
        "Bad_words = [\"Bad\", \"Terrible\", \"Bitter\", \"Yucky\", \"Nasty\"]\n",
        "Real_words = [\"Real\", \"Genuine\", \"Authentic\", \"Accurate\"]\n",
        "Fake_words = [\"Fake\", \"Bogus\", \"Fraud\", \"Sham\"]\n",
        "True_words = [\"True\", \"Accurate\", \"Correct\", \"Factual\"]\n",
        "False_words = [\"False\", \"Flawed\", \"Wrong\", \"Fictional\"]"
      ],
      "execution_count": null,
      "outputs": []
    },
    {
      "cell_type": "code",
      "metadata": {
        "colab": {
          "base_uri": "https://localhost:8080/"
        },
        "id": "1XB1ElzJ6Bq-",
        "outputId": "1d6c38d4-7e39-4018-c92f-9d9b33e22f07"
      },
      "source": [
        "weat_ES(Christianity_words, Islam_words, Good_words, Bad_words) # Christianity - Good/Islam - Bad "
      ],
      "execution_count": null,
      "outputs": [
        {
          "data": {
            "text/plain": [
              "0.7012066"
            ]
          },
          "execution_count": 37,
          "metadata": {},
          "output_type": "execute_result"
        }
      ]
    },
    {
      "cell_type": "code",
      "metadata": {
        "colab": {
          "base_uri": "https://localhost:8080/"
        },
        "id": "F5O1wI4B7-md",
        "outputId": "e9895e95-bf42-474d-fc9b-0bb549b4a690"
      },
      "source": [
        "p_value_weat(Christianity_words, Islam_words, Good_words, Bad_words, 10000)"
      ],
      "execution_count": null,
      "outputs": [
        {
          "data": {
            "text/plain": [
              "0.0879"
            ]
          },
          "execution_count": 39,
          "metadata": {},
          "output_type": "execute_result"
        }
      ]
    },
    {
      "cell_type": "code",
      "metadata": {
        "colab": {
          "base_uri": "https://localhost:8080/"
        },
        "id": "8ljbQvLO7bZR",
        "outputId": "42087514-ce57-4054-8065-cbe20417defd"
      },
      "source": [
        "weat_ES(Christianity_words, Islam_words, Real_words, Fake_words) # Christianity - Real/Islam - Fake"
      ],
      "execution_count": null,
      "outputs": [
        {
          "data": {
            "text/plain": [
              "1.5865585"
            ]
          },
          "execution_count": 38,
          "metadata": {},
          "output_type": "execute_result"
        }
      ]
    },
    {
      "cell_type": "code",
      "metadata": {
        "colab": {
          "base_uri": "https://localhost:8080/"
        },
        "id": "XySX226s8gVo",
        "outputId": "03afb34d-b9d7-4eab-a3a1-5b05b4971347"
      },
      "source": [
        "p_value_weat(Christianity_words, Islam_words, Real_words, Fake_words, 10000)"
      ],
      "execution_count": null,
      "outputs": [
        {
          "data": {
            "text/plain": [
              "0.0001"
            ]
          },
          "execution_count": 40,
          "metadata": {},
          "output_type": "execute_result"
        }
      ]
    },
    {
      "cell_type": "code",
      "metadata": {
        "colab": {
          "base_uri": "https://localhost:8080/"
        },
        "id": "QZP3qX7s-sLX",
        "outputId": "cd463fe3-3472-4309-a855-37b15f37dc84"
      },
      "source": [
        "weat_ES(Christianity_words, Judaism_words, Good_words, Bad_words) # Christianity - Good/Judaism - Bad "
      ],
      "execution_count": null,
      "outputs": [
        {
          "data": {
            "text/plain": [
              "1.1312969"
            ]
          },
          "execution_count": 21,
          "metadata": {},
          "output_type": "execute_result"
        }
      ]
    },
    {
      "cell_type": "code",
      "metadata": {
        "colab": {
          "base_uri": "https://localhost:8080/"
        },
        "id": "P3m5tUz--1MP",
        "outputId": "8d6c7fd1-b2ac-4eef-fd8c-beddd69d35ce"
      },
      "source": [
        "p_value_weat(Christianity_words, Judaism_words, Good_words, Bad_words, 10000)"
      ],
      "execution_count": null,
      "outputs": [
        {
          "data": {
            "text/plain": [
              "0.0108"
            ]
          },
          "execution_count": 22,
          "metadata": {},
          "output_type": "execute_result"
        }
      ]
    },
    {
      "cell_type": "code",
      "metadata": {
        "colab": {
          "base_uri": "https://localhost:8080/"
        },
        "id": "umg_97A7_jbK",
        "outputId": "188b251e-ccc5-4383-e7eb-a56e7a7ab8da"
      },
      "source": [
        "weat_ES(Christianity_words, Judaism_words, Real_words, Fake_words) # Christianity - Real/Judaism - Fake "
      ],
      "execution_count": null,
      "outputs": [
        {
          "data": {
            "text/plain": [
              "1.1870362"
            ]
          },
          "execution_count": 25,
          "metadata": {},
          "output_type": "execute_result"
        }
      ]
    },
    {
      "cell_type": "code",
      "metadata": {
        "colab": {
          "base_uri": "https://localhost:8080/"
        },
        "id": "5rU3VfHT_p9-",
        "outputId": "527024e4-c47b-489b-ed8a-5cba9206c091"
      },
      "source": [
        "p_value_weat(Christianity_words, Judaism_words, Real_words, Fake_words, 10000)"
      ],
      "execution_count": null,
      "outputs": [
        {
          "data": {
            "text/plain": [
              "0.0078"
            ]
          },
          "execution_count": 26,
          "metadata": {},
          "output_type": "execute_result"
        }
      ]
    },
    {
      "cell_type": "code",
      "metadata": {
        "colab": {
          "base_uri": "https://localhost:8080/"
        },
        "id": "XjfmHcXk_CmO",
        "outputId": "87ebc452-4520-4c68-c8fa-e06d272fcaa5"
      },
      "source": [
        "weat_ES(Judaism_words, Islam_words, Good_words, Bad_words) # Judaism - Good/Islam - Bad "
      ],
      "execution_count": null,
      "outputs": [
        {
          "data": {
            "text/plain": [
              "-0.5965215"
            ]
          },
          "execution_count": 23,
          "metadata": {},
          "output_type": "execute_result"
        }
      ]
    },
    {
      "cell_type": "code",
      "metadata": {
        "colab": {
          "base_uri": "https://localhost:8080/"
        },
        "id": "iZxS8sYg_RNX",
        "outputId": "3853fbec-f0db-4cea-c250-3829329e6e2d"
      },
      "source": [
        "p_value_weat(Judaism_words, Islam_words, Good_words, Bad_words, 10000)"
      ],
      "execution_count": null,
      "outputs": [
        {
          "data": {
            "text/plain": [
              "0.8783"
            ]
          },
          "execution_count": 24,
          "metadata": {},
          "output_type": "execute_result"
        }
      ]
    },
    {
      "cell_type": "code",
      "metadata": {
        "colab": {
          "base_uri": "https://localhost:8080/"
        },
        "id": "imRhbeO5AFjp",
        "outputId": "dd4a6904-9f8b-40db-fabf-d7c4b842b4a4"
      },
      "source": [
        "weat_ES(Judaism_words, Islam_words, Real_words, Fake_words) # Judaism - Real/Islam - Fake "
      ],
      "execution_count": null,
      "outputs": [
        {
          "data": {
            "text/plain": [
              "1.1748824"
            ]
          },
          "execution_count": 27,
          "metadata": {},
          "output_type": "execute_result"
        }
      ]
    },
    {
      "cell_type": "code",
      "metadata": {
        "colab": {
          "base_uri": "https://localhost:8080/"
        },
        "id": "RQuEhocMAJTL",
        "outputId": "c6d72d8c-130b-4ea7-b938-1a6df7f742a1"
      },
      "source": [
        "p_value_weat(Judaism_words, Islam_words, Real_words, Fake_words, 10000)"
      ],
      "execution_count": null,
      "outputs": [
        {
          "data": {
            "text/plain": [
              "0.0066"
            ]
          },
          "execution_count": 28,
          "metadata": {},
          "output_type": "execute_result"
        }
      ]
    },
    {
      "cell_type": "markdown",
      "metadata": {
        "id": "d5Xp4PVyZANH"
      },
      "source": [
        "# Plotting Vectors"
      ]
    },
    {
      "cell_type": "code",
      "metadata": {
        "id": "70nB-1lKnkHA"
      },
      "source": [
        "def vector_visualization(words_to_visualize):\n",
        "  tsne = TSNE(n_components = 2, random_state = 1)\n",
        "  vectors = [embeddings_index[word] for word in words_to_visualize]\n",
        "  Y = tsne.fit_transform(vectors[:1000])\n",
        "  plt.scatter(Y[:, 0], Y[:, 1])\n",
        "\n",
        "  for label, x, y in zip(words_to_visualize, Y[:, 0], Y[:, 1]):\n",
        "    plt.annotate(label, xy=(x, y), xytext=(0, 0), textcoords=\"offset points\")\n",
        "  plt.show()\n"
      ],
      "execution_count": null,
      "outputs": []
    },
    {
      "cell_type": "code",
      "metadata": {
        "colab": {
          "base_uri": "https://localhost:8080/",
          "height": 265
        },
        "id": "HuNAXj5voaiV",
        "outputId": "18611f7c-947a-403b-ad19-4021b272292a"
      },
      "source": [
        "vector_visualization(A + B)"
      ],
      "execution_count": null,
      "outputs": [
        {
          "data": {
            "image/png": "[encoded data removed]",
            "text/plain": [
              "<Figure size 432x288 with 1 Axes>"
            ]
          },
          "metadata": {},
          "output_type": "display_data"
        }
      ]
    },
    {
      "cell_type": "code",
      "metadata": {
        "id": "5KMHE9QocjxM"
      },
      "source": [
        "# tsne = TSNE(n_components = 2, random_state = 0)\n",
        "# word_list = [\"poor\", 'rich']\n",
        "# vectors = [embeddings_index[word] for word in word_list]\n",
        "# Y = tsne.fit_transform(vectors[:1000])\n",
        "# plt.scatter(Y[:, 0], Y[:, 1])\n",
        "\n",
        "# for label, x, y in zip(word_list, Y[:, 0], Y[:, 1]):\n",
        "#     plt.annotate(label, xy=(x, y), xytext=(0, 0), textcoords=\"offset points\")\n",
        "# plt.show()"
      ],
      "execution_count": null,
      "outputs": []
    },
    {
      "cell_type": "code",
      "metadata": {
        "id": "KxxGsobnbkXh"
      },
      "source": [
        ""
      ],
      "execution_count": null,
      "outputs": []
    }
  ]
}