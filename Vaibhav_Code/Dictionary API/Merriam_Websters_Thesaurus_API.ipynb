{
  "nbformat": 4,
  "nbformat_minor": 0,
  "metadata": {
    "colab": {
      "name": "Merriam_Websters_Thesaurus_API.ipynb",
      "provenance": [],
      "authorship_tag": "ABX9TyOVilRa8oCj3hEvNpsI1vXT",
      "include_colab_link": true
    },
    "kernelspec": {
      "name": "python3",
      "display_name": "Python 3"
    },
    "language_info": {
      "name": "python"
    }
  },
  "cells": [
    {
      "cell_type": "markdown",
      "metadata": {
        "id": "view-in-github",
        "colab_type": "text"
      },
      "source": [
        "<a href=\"https://colab.research.google.com/github/vaibhavrouduri/Thesis-Work/blob/main/Vaibhav_Code/Dictionary%20API/Merriam_Websters_Thesaurus_API.ipynb\" target=\"_parent\"><img src=\"https://colab.research.google.com/assets/colab-badge.svg\" alt=\"Open In Colab\"/></a>"
      ]
    },
    {
      "cell_type": "code",
      "metadata": {
        "colab": {
          "base_uri": "https://localhost:8080/"
        },
        "id": "wm4fIiMs-bgR",
        "outputId": "58f7edec-362e-4537-bdeb-7a9ff82f39f0"
      },
      "source": [
        "pip install mwthesaurus # pip is the package installer for python. Here we are using it to download the Merriam-Webster Dictionary package "
      ],
      "execution_count": null,
      "outputs": [
        {
          "output_type": "stream",
          "name": "stdout",
          "text": [
            "Collecting mwthesaurus\n",
            "  Downloading mwthesaurus-0.1.2-py3-none-any.whl (4.0 kB)\n",
            "Collecting httpx<0.14.0,>=0.13.0\n",
            "  Downloading httpx-0.13.3-py3-none-any.whl (55 kB)\n",
            "\u001b[K     |████████████████████████████████| 55 kB 1.5 MB/s \n",
            "\u001b[?25hCollecting sniffio\n",
            "  Downloading sniffio-1.2.0-py3-none-any.whl (10 kB)\n",
            "Requirement already satisfied: idna==2.* in /usr/local/lib/python3.7/dist-packages (from httpx<0.14.0,>=0.13.0->mwthesaurus) (2.10)\n",
            "Collecting httpcore==0.9.*\n",
            "  Downloading httpcore-0.9.1-py3-none-any.whl (42 kB)\n",
            "\u001b[K     |████████████████████████████████| 42 kB 794 kB/s \n",
            "\u001b[?25hRequirement already satisfied: chardet==3.* in /usr/local/lib/python3.7/dist-packages (from httpx<0.14.0,>=0.13.0->mwthesaurus) (3.0.4)\n",
            "Collecting hstspreload\n",
            "  Downloading hstspreload-2021.11.1-py3-none-any.whl (1.3 MB)\n",
            "\u001b[K     |████████████████████████████████| 1.3 MB 12.4 MB/s \n",
            "\u001b[?25hCollecting rfc3986<2,>=1.3\n",
            "  Downloading rfc3986-1.5.0-py2.py3-none-any.whl (31 kB)\n",
            "Requirement already satisfied: certifi in /usr/local/lib/python3.7/dist-packages (from httpx<0.14.0,>=0.13.0->mwthesaurus) (2021.10.8)\n",
            "Collecting h11<0.10,>=0.8\n",
            "  Downloading h11-0.9.0-py2.py3-none-any.whl (53 kB)\n",
            "\u001b[K     |████████████████████████████████| 53 kB 1.5 MB/s \n",
            "\u001b[?25hCollecting h2==3.*\n",
            "  Downloading h2-3.2.0-py2.py3-none-any.whl (65 kB)\n",
            "\u001b[K     |████████████████████████████████| 65 kB 2.3 MB/s \n",
            "\u001b[?25hCollecting hpack<4,>=3.0\n",
            "  Downloading hpack-3.0.0-py2.py3-none-any.whl (38 kB)\n",
            "Collecting hyperframe<6,>=5.2.0\n",
            "  Downloading hyperframe-5.2.0-py2.py3-none-any.whl (12 kB)\n",
            "Installing collected packages: hyperframe, hpack, sniffio, h2, h11, rfc3986, httpcore, hstspreload, httpx, mwthesaurus\n",
            "Successfully installed h11-0.9.0 h2-3.2.0 hpack-3.0.0 hstspreload-2021.11.1 httpcore-0.9.1 httpx-0.13.3 hyperframe-5.2.0 mwthesaurus-0.1.2 rfc3986-1.5.0 sniffio-1.2.0\n"
          ]
        }
      ]
    },
    {
      "cell_type": "code",
      "metadata": {
        "colab": {
          "base_uri": "https://localhost:8080/"
        },
        "id": "Pgu2MTaB-iLk",
        "outputId": "f9cf87d0-f62b-4b88-e540-2b1663483eb3"
      },
      "source": [
        "# In order to use the API, you are required to register on the website https://dictionaryapi.com/ after you will be provided with a key.\n",
        "from mwthesaurus import MWClient \n",
        "client = MWClient(key = \"c718d29d-2915-4216-963b-dc24718dd162\")\n",
        "client.get(\"idyll\")"
      ],
      "execution_count": null,
      "outputs": [
        {
          "output_type": "execute_result",
          "data": {
            "text/plain": [
              "[Word(word='idyll', wordtype='noun', shortdef=['a time or instance of carefree fun'], synonyms=['binge', 'fling', 'frisk', 'frolic', 'gambol', 'lark', 'ploy', 'revel', 'rollick', 'romp', 'spree'], antonyms=[], stems=['idyll', 'idyl', 'idylls', 'idyls'])]"
            ]
          },
          "metadata": {},
          "execution_count": 2
        }
      ]
    }
  ]
}