{
  "nbformat": 4,
  "nbformat_minor": 0,
  "metadata": {
    "colab": {
      "name": "Thesis_WEAT_Harvard.ipynb",
      "provenance": [],
      "collapsed_sections": [],
      "authorship_tag": "ABX9TyME5QtpHJGAGtGtRHWgKxe+",
      "include_colab_link": true
    },
    "kernelspec": {
      "name": "python3",
      "display_name": "Python 3"
    },
    "language_info": {
      "name": "python"
    },
    "accelerator": "GPU"
  },
  "cells": [
    {
      "cell_type": "markdown",
      "metadata": {
        "id": "view-in-github",
        "colab_type": "text"
      },
      "source": [
        "<a href=\"https://colab.research.google.com/github/vaibhavrouduri/Thesis-Work/blob/main/Week1.ipynb\" target=\"_parent\"><img src=\"https://colab.research.google.com/assets/colab-badge.svg\" alt=\"Open In Colab\"/></a>"
      ]
    },
    {
      "cell_type": "code",
      "metadata": {
        "id": "h8VgiNmOynYT"
      },
      "source": [
        "import numpy as np\n",
        "import random\n",
        "import time\n",
        "from itertools import filterfalse"
      ],
      "execution_count": 1,
      "outputs": []
    },
    {
      "cell_type": "markdown",
      "metadata": {
        "id": "ByMPQ3vw4g-F"
      },
      "source": [
        "Imported pretrained glove vectors trained on 800B words.\n",
        "Took help from https://colab.research.google.com/github/keras-team/keras-io/blob/master/examples/nlp/ipynb/pretrained_word_embeddings.ipynb#scrollTo=EVOo9FVY2L8P and https://medium.com/analytics-vidhya/basics-of-using-pre-trained-glove-vectors-in-python-d38905f356db\n",
        "\n",
        "\n",
        "---\n",
        "\n"
      ]
    },
    {
      "cell_type": "code",
      "metadata": {
        "colab": {
          "base_uri": "https://localhost:8080/"
        },
        "id": "CAb2CGCM2r2G",
        "outputId": "1fdada1c-08f5-46fe-e0e1-ab3ca571d245"
      },
      "source": [
        "!wget http://nlp.stanford.edu/data/glove.840B.300d.zip\n",
        "!unzip -q glove.840B.300d.zip"
      ],
      "execution_count": 2,
      "outputs": [
        {
          "output_type": "stream",
          "text": [
            "--2021-08-12 15:20:11--  http://nlp.stanford.edu/data/glove.840B.300d.zip\n",
            "Resolving nlp.stanford.edu (nlp.stanford.edu)... 171.64.67.140\n",
            "Connecting to nlp.stanford.edu (nlp.stanford.edu)|171.64.67.140|:80... connected.\n",
            "HTTP request sent, awaiting response... 302 Found\n",
            "Location: https://nlp.stanford.edu/data/glove.840B.300d.zip [following]\n",
            "--2021-08-12 15:20:11--  https://nlp.stanford.edu/data/glove.840B.300d.zip\n",
            "Connecting to nlp.stanford.edu (nlp.stanford.edu)|171.64.67.140|:443... connected.\n",
            "HTTP request sent, awaiting response... 301 Moved Permanently\n",
            "Location: http://downloads.cs.stanford.edu/nlp/data/glove.840B.300d.zip [following]\n",
            "--2021-08-12 15:20:11--  http://downloads.cs.stanford.edu/nlp/data/glove.840B.300d.zip\n",
            "Resolving downloads.cs.stanford.edu (downloads.cs.stanford.edu)... 171.64.64.22\n",
            "Connecting to downloads.cs.stanford.edu (downloads.cs.stanford.edu)|171.64.64.22|:80... connected.\n",
            "HTTP request sent, awaiting response... 200 OK\n",
            "Length: 2176768927 (2.0G) [application/zip]\n",
            "Saving to: ‘glove.840B.300d.zip’\n",
            "\n",
            "glove.840B.300d.zip 100%[===================>]   2.03G  5.15MB/s    in 6m 56s  \n",
            "\n",
            "2021-08-12 15:27:08 (4.99 MB/s) - ‘glove.840B.300d.zip’ saved [2176768927/2176768927]\n",
            "\n"
          ],
          "name": "stdout"
        }
      ]
    },
    {
      "cell_type": "code",
      "metadata": {
        "colab": {
          "base_uri": "https://localhost:8080/"
        },
        "id": "KMuxfb2B5wpI",
        "outputId": "08a72300-af10-457c-820d-89104e8627fd"
      },
      "source": [
        "embeddings_index = {}\n",
        "with open(\"glove.840B.300d.txt\") as f:\n",
        "    for line in f:\n",
        "        word, coefs = line.split(maxsplit=1)\n",
        "        coefs = np.fromstring(coefs, \"f\", sep=\" \")\n",
        "        embeddings_index[word] = coefs"
      ],
      "execution_count": 3,
      "outputs": [
        {
          "output_type": "stream",
          "text": [
            "/usr/local/lib/python3.7/dist-packages/ipykernel_launcher.py:5: DeprecationWarning: string or file could not be read to its end due to unmatched data; this will raise a ValueError in the future.\n",
            "  \"\"\"\n"
          ],
          "name": "stderr"
        }
      ]
    },
    {
      "cell_type": "markdown",
      "metadata": {
        "id": "Mi8lQl_8qthR"
      },
      "source": [
        "#Task 1"
      ]
    },
    {
      "cell_type": "code",
      "metadata": {
        "id": "0x-mMYJZyWxG"
      },
      "source": [
        "def cos(v1, v2):\n",
        "  num = np.dot(v1, v2)\n",
        "  denom = np.linalg.norm(v1) * np.linalg.norm(v2)\n",
        "  return num/denom"
      ],
      "execution_count": 4,
      "outputs": []
    },
    {
      "cell_type": "code",
      "metadata": {
        "id": "5vSG7bfrWS7A"
      },
      "source": [
        "def weat_swAB(w, A, B):  # w is a single word, A and B are sets of attribute words\n",
        "  A_list = []\n",
        "  B_list = []\n",
        "\n",
        "  for v in A:\n",
        "    A_list.append(cos(embeddings_index[w], embeddings_index[v]))\n",
        "  for v in B:\n",
        "    B_list.append(cos(embeddings_index[w], embeddings_index[v]))\n",
        "\n",
        "  A_array = np.array(A_list)\n",
        "  B_array = np.array(B_list)\n",
        "\n",
        "  return np.mean(A_array) - np.mean(B_array)"
      ],
      "execution_count": 5,
      "outputs": []
    },
    {
      "cell_type": "code",
      "metadata": {
        "id": "a2KZLg1AR2Yl"
      },
      "source": [
        "def weat_ES(X, Y, A, B):\n",
        "  x_list = []\n",
        "  y_list = []\n",
        "\n",
        "  for x in X:\n",
        "    x_list.append(weat_swAB(x, A, B))\n",
        "  for y in Y:\n",
        "    y_list.append(weat_swAB(y, A, B))\n",
        "\n",
        "  x_array = np.array(x_list)\n",
        "  y_array = np.array(y_list)\n",
        "\n",
        "  return (np.mean(x_array) - np.mean(y_array))/(np.std(np.concatenate((x_array, y_array))))"
      ],
      "execution_count": 6,
      "outputs": []
    },
    {
      "cell_type": "code",
      "metadata": {
        "id": "ebmKFAJiTz8-"
      },
      "source": [
        "X = [\"woman\", \"mother\"]\n",
        "Y = [\"man\", \"father\"]\n",
        "A = [\"health\", \"happy\"]\n",
        "B = [\"pollute\", \"tragedy\"]"
      ],
      "execution_count": 83,
      "outputs": []
    },
    {
      "cell_type": "code",
      "metadata": {
        "id": "w8kkK1WYp6qe"
      },
      "source": [
        "\n",
        "# X = [\"bagpipe\", \"cello\", \"guitar\", \"lute\", \"trombone\", \"banjo\", \"clarinet\", \"harmonica\", \"mandolin\", \"trumpet\", \"bassoon\", \"drum\", \"harp\", \"oboe\", \"tuba\", \"bell\", \"fiddle\", \"harpsichord\", \"piano\", \"viola\", \"bongo\",\n",
        "# \"flute\", \"horn\", \"saxophone\", \"violin\"] #Instruments\n",
        "# Y = [\"arrow\", \"club\", \"gun\", \"missile\", \"spear\", \"axe\", \"dagger\", \"harpoon\", \"pistol\", \"sword\", \"blade\", \"dynamite\", \"hatchet\", \"rifle\", \"tank\", \"bomb\", \"firearm\", \"knife\", \"shotgun\", \"teargas\", \"cannon\", \"grenade\",\n",
        "#     \"mace\", \"slingshot\", \"whip\"] #Weapons\n",
        "# A = [\"caress\", \"freedom\", \"health\", \"love\", \"peace\", \"cheer\", \"friend\", \"heaven\", \"loyal\", \"pleasure\", \"diamond\", \"gentle\", \"honest\", \"lucky\", \"rainbow\", \"diploma\", \"gift\", \"honor\", \"miracle\", \"sunrise\", \"family\",\n",
        "#     \"happy\", \"laughter\", \"paradise\", \"vacation\"] #Pleasant\n",
        "# B = [\"abuse\", \"crash\", \"filth\", \"murder\", \"sickness\", \"accident\", \"death\", \"grief\", \"poison\", \"stink\", \"assault\", \"disaster\", \"hatred\", \"pollute\", \"tragedy\", \"divorce\", \"jail\", \"poverty\", \"ugly\", \"cancer\", \"kill\", \"rotten\",\n",
        "#     \"vomit\", \"agony\", \"prison\"]"
      ],
      "execution_count": 81,
      "outputs": []
    },
    {
      "cell_type": "code",
      "metadata": {
        "colab": {
          "base_uri": "https://localhost:8080/"
        },
        "id": "K8jytPnSWAnM",
        "outputId": "72e42647-f83b-45b0-f65d-dc3a5b8f3178"
      },
      "source": [
        "weat_ES(X, Y, A, B)"
      ],
      "execution_count": 84,
      "outputs": [
        {
          "output_type": "execute_result",
          "data": {
            "text/plain": [
              "1.3516481"
            ]
          },
          "metadata": {
            "tags": []
          },
          "execution_count": 84
        }
      ]
    },
    {
      "cell_type": "code",
      "metadata": {
        "id": "AAjZErN9WDd-"
      },
      "source": [
        "def test_statistic(X, Y, A, B):\n",
        "  x_list = []\n",
        "  y_list = []\n",
        "\n",
        "  for x in X:\n",
        "    x_list.append(weat_swAB(x, A, B))\n",
        "  for y in Y:\n",
        "    y_list.append(weat_swAB(y, A, B))\n",
        "\n",
        "  x_array = np.array(x_list)\n",
        "  y_array = np.array(y_list)\n",
        "\n",
        "  return np.sum(x_array) - np.sum(y_array)"
      ],
      "execution_count": 7,
      "outputs": []
    },
    {
      "cell_type": "code",
      "metadata": {
        "id": "GqcK79EXisIh",
        "colab": {
          "base_uri": "https://localhost:8080/"
        },
        "outputId": "690aab49-842c-46e8-9984-13a76d29eff2"
      },
      "source": [
        "test_statistic(X, Y, A, B)"
      ],
      "execution_count": 9,
      "outputs": [
        {
          "output_type": "execute_result",
          "data": {
            "text/plain": [
              "0.075884"
            ]
          },
          "metadata": {
            "tags": []
          },
          "execution_count": 9
        }
      ]
    },
    {
      "cell_type": "code",
      "metadata": {
        "id": "5GtBNZFrSLCX"
      },
      "source": [
        "def random_permutation(targets, r):\n",
        "  return random.sample(targets, r)"
      ],
      "execution_count": 14,
      "outputs": []
    },
    {
      "cell_type": "markdown",
      "metadata": {
        "id": "CU7KnSNvpX_k"
      },
      "source": [
        "Took help from https://github.com/jsedoc/ConceptorDebias/blob/master/WEAT/WEAT.ipynb"
      ]
    },
    {
      "cell_type": "code",
      "metadata": {
        "id": "7rqBYeM6VySD"
      },
      "source": [
        "def p_value_weat(X, Y, A, B, iterations):\n",
        "  X_Y = X + Y\n",
        "  size_of_permutation = len(X)\n",
        "  permutations = []\n",
        "  test_statistics_permutations = []\n",
        "  condition_satisfied = []\n",
        "\n",
        "  while iterations != 0:\n",
        "    permutations.append(random_permutation(X_Y, size_of_permutation))\n",
        "    iterations = iterations - 1\n",
        "\n",
        "  for Xi in permutations:\n",
        "    Yi = filterfalse(lambda w:w in Xi, X_Y)\n",
        "    test_statistics_permutations.append(test_statistic(Xi, Yi, A, B))\n",
        "\n",
        "  overall_test_statistic = test_statistic(X, Y, A, B)\n",
        "\n",
        "  condition_satisfied = [p > overall_test_statistic for p in test_statistics_permutations]\n",
        "\n",
        "  condition_satisfied_array = np.array(condition_satisfied)\n",
        "\n",
        "  return condition_satisfied_array.sum()/condition_satisfied_array.size"
      ],
      "execution_count": 8,
      "outputs": []
    },
    {
      "cell_type": "code",
      "metadata": {
        "colab": {
          "base_uri": "https://localhost:8080/"
        },
        "id": "z6hDNbzVpNKi",
        "outputId": "38b7c1ef-029c-44c7-c07c-5c56f61b388b"
      },
      "source": [
        "p_value_weat(X, Y, A, B, 1000) # Normal distribution 1000 iterations"
      ],
      "execution_count": 85,
      "outputs": [
        {
          "output_type": "execute_result",
          "data": {
            "text/plain": [
              "0.174"
            ]
          },
          "metadata": {
            "tags": []
          },
          "execution_count": 85
        }
      ]
    },
    {
      "cell_type": "code",
      "metadata": {
        "colab": {
          "base_uri": "https://localhost:8080/"
        },
        "id": "mqZoowfPkjZB",
        "outputId": "b04ca288-7524-4be9-adea-a7ee7a47a9c0"
      },
      "source": [
        "p_value_weat(X, Y, A, B, 1000000) # Empirical distribution 1,000,000 iterations"
      ],
      "execution_count": 86,
      "outputs": [
        {
          "output_type": "execute_result",
          "data": {
            "text/plain": [
              "0.167321"
            ]
          },
          "metadata": {
            "tags": []
          },
          "execution_count": 86
        }
      ]
    },
    {
      "cell_type": "markdown",
      "metadata": {
        "id": "IW86eJu6q14t"
      },
      "source": [
        "#Task 2"
      ]
    },
    {
      "cell_type": "code",
      "metadata": {
        "id": "5sPEgH5nZrHl"
      },
      "source": [
        "def wefat_ES(w, A, B):\n",
        "  A_B = A + B\n",
        "  cos_A_B = []\n",
        "  for x in A_B:\n",
        "    cos_A_B.append(cos(embeddings_index[w], embeddings_index[x]))\n",
        "  cos_A_B_array = np.array(cos_A_B)\n",
        "\n",
        "  return weat_swAB(w, A, B)/np.std(cos_A_B_array)"
      ],
      "execution_count": 25,
      "outputs": []
    },
    {
      "cell_type": "code",
      "metadata": {
        "id": "VQj6sYb3oaPf"
      },
      "source": [
        "A1 = [\"caress\", \"freedom\", \"health\", \"love\", \"peace\", \"cheer\", \"friend\", \"heaven\", \"loyal\", \"pleasure\", \"diamond\", \"gentle\", \"honest\", \"lucky\", \"rainbow\", \"diploma\", \"gift\", \"honor\", \"miracle\", \"sunrise\", \"family\", \"happy\", \"laughter\", \"paradise\", \"vacation\"]\n",
        "A2 = [\"abuse\", \"crash\", \"filth\", \"murder\", \"sickness\", \"accident\", \"death\", \"grief\", \"poison\", \"stink\", \"assault\", \"disaster\", \"hatred\", \"pollute\", \"tragedy\", \"divorce\", \"jail\", \"poverty\", \"ugly\", \"cancer\", \"kill\", \"rotten\", \"vomit\", \"agony\", \"prison\"]"
      ],
      "execution_count": 10,
      "outputs": []
    },
    {
      "cell_type": "code",
      "metadata": {
        "id": "fCSJTOtyI4gD"
      },
      "source": [
        "# FA=[\"female\", \"woman\", \"girl\", \"sister\", \"she\", \"her\", \"hers\", \"daughter\"]\n",
        "# FB=[\"male\", \"man\", \"boy\", \"brother\", \"he\", \"him\", \"his\", \"son\"]"
      ],
      "execution_count": 16,
      "outputs": []
    },
    {
      "cell_type": "code",
      "metadata": {
        "id": "yUIjra8-jbRO"
      },
      "source": [
        "def p_value_wefat(w, A, B, iterations):\n",
        "  A_B = A + B\n",
        "  size_of_permutation = len(A)\n",
        "  permutations = []\n",
        "  test_statistics_permutations = []\n",
        "  condition_satisfied = []\n",
        "\n",
        "  while iterations != 0:\n",
        "    permutations.append(random_permutation(A_B, size_of_permutation))\n",
        "    iterations = iterations - 1\n",
        "\n",
        "  for Ai in permutations:\n",
        "    Bi = filterfalse(lambda w:w in Ai, A_B)\n",
        "    test_statistics_permutations.append(weat_swAB(w, Ai, Bi))\n",
        "\n",
        "  overall_test_statistic = weat_swAB(w, A, B)\n",
        "\n",
        "  condition_satisfied = [p > overall_test_statistic for p in test_statistics_permutations]\n",
        "\n",
        "  condition_satisfied_array = np.array(condition_satisfied)\n",
        "\n",
        "  return condition_satisfied_array.sum()/condition_satisfied_array.size"
      ],
      "execution_count": 11,
      "outputs": []
    },
    {
      "cell_type": "code",
      "metadata": {
        "colab": {
          "base_uri": "https://localhost:8080/"
        },
        "id": "OyN-1j8Qjm_6",
        "outputId": "e6821c91-3888-4eab-b463-54bae37e1c49"
      },
      "source": [
        "wefat_ES(\"XXXXX\", A1, A2)"
      ],
      "execution_count": 12,
      "outputs": [
        {
          "output_type": "execute_result",
          "data": {
            "text/plain": [
              "0.17482777"
            ]
          },
          "metadata": {
            "tags": []
          },
          "execution_count": 12
        }
      ]
    },
    {
      "cell_type": "code",
      "metadata": {
        "colab": {
          "base_uri": "https://localhost:8080/"
        },
        "id": "DaRs0gDsjvnJ",
        "outputId": "71fd3a96-ec1a-442a-e08c-766f59605ad6"
      },
      "source": [
        "p_value_wefat(\"XXXXX\", A1, A2, 1000000)"
      ],
      "execution_count": 15,
      "outputs": [
        {
          "output_type": "execute_result",
          "data": {
            "text/plain": [
              "0.272294"
            ]
          },
          "metadata": {
            "tags": []
          },
          "execution_count": 15
        }
      ]
    },
    {
      "cell_type": "code",
      "metadata": {
        "colab": {
          "base_uri": "https://localhost:8080/"
        },
        "id": "gvAno5FukACG",
        "outputId": "5a7780ed-3a52-4c09-f23c-28932f729bef"
      },
      "source": [
        "wefat_ES(\"weat\", A1, A2)"
      ],
      "execution_count": 21,
      "outputs": [
        {
          "output_type": "execute_result",
          "data": {
            "text/plain": [
              "-0.15603785"
            ]
          },
          "metadata": {
            "tags": []
          },
          "execution_count": 21
        }
      ]
    },
    {
      "cell_type": "code",
      "metadata": {
        "colab": {
          "base_uri": "https://localhost:8080/"
        },
        "id": "AtjAQJBppEBB",
        "outputId": "01bd5391-497d-46c7-e837-57dfcc5d9484"
      },
      "source": [
        "p_value_wefat(\"weat\", A1, A2, 1000000)"
      ],
      "execution_count": 22,
      "outputs": [
        {
          "output_type": "execute_result",
          "data": {
            "text/plain": [
              "0.705258"
            ]
          },
          "metadata": {
            "tags": []
          },
          "execution_count": 22
        }
      ]
    },
    {
      "cell_type": "code",
      "metadata": {
        "colab": {
          "base_uri": "https://localhost:8080/",
          "height": 282
        },
        "id": "x1Mnv0M0MSlp",
        "outputId": "28f02e71-f705-4219-cbbf-90359eb0b9bf"
      },
      "source": [
        "wefat_ES(\"AylinCaliskan\", A1, A2)"
      ],
      "execution_count": 23,
      "outputs": [
        {
          "output_type": "error",
          "ename": "KeyError",
          "evalue": "ignored",
          "traceback": [
            "\u001b[0;31m---------------------------------------------------------------------------\u001b[0m",
            "\u001b[0;31mKeyError\u001b[0m                                  Traceback (most recent call last)",
            "\u001b[0;32m<ipython-input-23-7109d3400c91>\u001b[0m in \u001b[0;36m<module>\u001b[0;34m()\u001b[0m\n\u001b[0;32m----> 1\u001b[0;31m \u001b[0mwefat_ES\u001b[0m\u001b[0;34m(\u001b[0m\u001b[0;34m\"AylinCaliskan\"\u001b[0m\u001b[0;34m,\u001b[0m \u001b[0mA1\u001b[0m\u001b[0;34m,\u001b[0m \u001b[0mA2\u001b[0m\u001b[0;34m)\u001b[0m\u001b[0;34m\u001b[0m\u001b[0;34m\u001b[0m\u001b[0m\n\u001b[0m",
            "\u001b[0;32m<ipython-input-9-7adbe07a96ce>\u001b[0m in \u001b[0;36mwefat_ES\u001b[0;34m(w, A, B)\u001b[0m\n\u001b[1;32m      3\u001b[0m   \u001b[0mcos_A_B\u001b[0m \u001b[0;34m=\u001b[0m \u001b[0;34m[\u001b[0m\u001b[0;34m]\u001b[0m\u001b[0;34m\u001b[0m\u001b[0;34m\u001b[0m\u001b[0m\n\u001b[1;32m      4\u001b[0m   \u001b[0;32mfor\u001b[0m \u001b[0mx\u001b[0m \u001b[0;32min\u001b[0m \u001b[0mA_B\u001b[0m\u001b[0;34m:\u001b[0m\u001b[0;34m\u001b[0m\u001b[0;34m\u001b[0m\u001b[0m\n\u001b[0;32m----> 5\u001b[0;31m     \u001b[0mcos_A_B\u001b[0m\u001b[0;34m.\u001b[0m\u001b[0mappend\u001b[0m\u001b[0;34m(\u001b[0m\u001b[0mcos\u001b[0m\u001b[0;34m(\u001b[0m\u001b[0membeddings_index\u001b[0m\u001b[0;34m[\u001b[0m\u001b[0mw\u001b[0m\u001b[0;34m]\u001b[0m\u001b[0;34m,\u001b[0m \u001b[0membeddings_index\u001b[0m\u001b[0;34m[\u001b[0m\u001b[0mx\u001b[0m\u001b[0;34m]\u001b[0m\u001b[0;34m)\u001b[0m\u001b[0;34m)\u001b[0m\u001b[0;34m\u001b[0m\u001b[0;34m\u001b[0m\u001b[0m\n\u001b[0m\u001b[1;32m      6\u001b[0m   \u001b[0mcos_A_B_array\u001b[0m \u001b[0;34m=\u001b[0m \u001b[0mnp\u001b[0m\u001b[0;34m.\u001b[0m\u001b[0marray\u001b[0m\u001b[0;34m(\u001b[0m\u001b[0mcos_A_B\u001b[0m\u001b[0;34m)\u001b[0m\u001b[0;34m\u001b[0m\u001b[0;34m\u001b[0m\u001b[0m\n\u001b[1;32m      7\u001b[0m \u001b[0;34m\u001b[0m\u001b[0m\n",
            "\u001b[0;31mKeyError\u001b[0m: 'AylinCaliskan'"
          ]
        }
      ]
    },
    {
      "cell_type": "code",
      "metadata": {
        "colab": {
          "base_uri": "https://localhost:8080/",
          "height": 306
        },
        "id": "rgME4K4ulmSZ",
        "outputId": "3650d654-d2f8-47d2-83a5-6f04c6a5935f"
      },
      "source": [
        "p_value_wefat(\"AylinCaliskan\", A1, A2, 1000000)"
      ],
      "execution_count": 24,
      "outputs": [
        {
          "output_type": "error",
          "ename": "KeyError",
          "evalue": "ignored",
          "traceback": [
            "\u001b[0;31m---------------------------------------------------------------------------\u001b[0m",
            "\u001b[0;31mKeyError\u001b[0m                                  Traceback (most recent call last)",
            "\u001b[0;32m<ipython-input-24-1d19c5c744ce>\u001b[0m in \u001b[0;36m<module>\u001b[0;34m()\u001b[0m\n\u001b[0;32m----> 1\u001b[0;31m \u001b[0mp_value_wefat\u001b[0m\u001b[0;34m(\u001b[0m\u001b[0;34m\"AylinCaliskan\"\u001b[0m\u001b[0;34m,\u001b[0m \u001b[0mA1\u001b[0m\u001b[0;34m,\u001b[0m \u001b[0mA2\u001b[0m\u001b[0;34m,\u001b[0m \u001b[0;36m1000000\u001b[0m\u001b[0;34m)\u001b[0m\u001b[0;34m\u001b[0m\u001b[0;34m\u001b[0m\u001b[0m\n\u001b[0m",
            "\u001b[0;32m<ipython-input-11-4efb138ad6c5>\u001b[0m in \u001b[0;36mp_value_wefat\u001b[0;34m(w, A, B, iterations)\u001b[0m\n\u001b[1;32m     20\u001b[0m     \u001b[0;31m# Ai_array = np.array(Ai_list)\u001b[0m\u001b[0;34m\u001b[0m\u001b[0;34m\u001b[0m\u001b[0;34m\u001b[0m\u001b[0m\n\u001b[1;32m     21\u001b[0m     \u001b[0;31m# Bi_array = np.array(Bi_list)\u001b[0m\u001b[0;34m\u001b[0m\u001b[0;34m\u001b[0m\u001b[0;34m\u001b[0m\u001b[0m\n\u001b[0;32m---> 22\u001b[0;31m     \u001b[0mtest_statistics_permutations\u001b[0m\u001b[0;34m.\u001b[0m\u001b[0mappend\u001b[0m\u001b[0;34m(\u001b[0m\u001b[0mweat_swAB\u001b[0m\u001b[0;34m(\u001b[0m\u001b[0mw\u001b[0m\u001b[0;34m,\u001b[0m \u001b[0mAi\u001b[0m\u001b[0;34m,\u001b[0m \u001b[0mBi\u001b[0m\u001b[0;34m)\u001b[0m\u001b[0;34m)\u001b[0m\u001b[0;34m\u001b[0m\u001b[0;34m\u001b[0m\u001b[0m\n\u001b[0m\u001b[1;32m     23\u001b[0m \u001b[0;34m\u001b[0m\u001b[0m\n\u001b[1;32m     24\u001b[0m   \u001b[0moverall_test_statistic\u001b[0m \u001b[0;34m=\u001b[0m \u001b[0mweat_swAB\u001b[0m\u001b[0;34m(\u001b[0m\u001b[0mw\u001b[0m\u001b[0;34m,\u001b[0m \u001b[0mA\u001b[0m\u001b[0;34m,\u001b[0m \u001b[0mB\u001b[0m\u001b[0;34m)\u001b[0m\u001b[0;34m\u001b[0m\u001b[0;34m\u001b[0m\u001b[0m\n",
            "\u001b[0;32m<ipython-input-5-3a450c73dad1>\u001b[0m in \u001b[0;36mweat_swAB\u001b[0;34m(w, A, B)\u001b[0m\n\u001b[1;32m      4\u001b[0m \u001b[0;34m\u001b[0m\u001b[0m\n\u001b[1;32m      5\u001b[0m   \u001b[0;32mfor\u001b[0m \u001b[0mv\u001b[0m \u001b[0;32min\u001b[0m \u001b[0mA\u001b[0m\u001b[0;34m:\u001b[0m\u001b[0;34m\u001b[0m\u001b[0;34m\u001b[0m\u001b[0m\n\u001b[0;32m----> 6\u001b[0;31m     \u001b[0mA_list\u001b[0m\u001b[0;34m.\u001b[0m\u001b[0mappend\u001b[0m\u001b[0;34m(\u001b[0m\u001b[0mcos\u001b[0m\u001b[0;34m(\u001b[0m\u001b[0membeddings_index\u001b[0m\u001b[0;34m[\u001b[0m\u001b[0mw\u001b[0m\u001b[0;34m]\u001b[0m\u001b[0;34m,\u001b[0m \u001b[0membeddings_index\u001b[0m\u001b[0;34m[\u001b[0m\u001b[0mv\u001b[0m\u001b[0;34m]\u001b[0m\u001b[0;34m)\u001b[0m\u001b[0;34m)\u001b[0m\u001b[0;34m\u001b[0m\u001b[0;34m\u001b[0m\u001b[0m\n\u001b[0m\u001b[1;32m      7\u001b[0m   \u001b[0;32mfor\u001b[0m \u001b[0mv\u001b[0m \u001b[0;32min\u001b[0m \u001b[0mB\u001b[0m\u001b[0;34m:\u001b[0m\u001b[0;34m\u001b[0m\u001b[0;34m\u001b[0m\u001b[0m\n\u001b[1;32m      8\u001b[0m     \u001b[0mB_list\u001b[0m\u001b[0;34m.\u001b[0m\u001b[0mappend\u001b[0m\u001b[0;34m(\u001b[0m\u001b[0mcos\u001b[0m\u001b[0;34m(\u001b[0m\u001b[0membeddings_index\u001b[0m\u001b[0;34m[\u001b[0m\u001b[0mw\u001b[0m\u001b[0;34m]\u001b[0m\u001b[0;34m,\u001b[0m \u001b[0membeddings_index\u001b[0m\u001b[0;34m[\u001b[0m\u001b[0mv\u001b[0m\u001b[0;34m]\u001b[0m\u001b[0;34m)\u001b[0m\u001b[0;34m)\u001b[0m\u001b[0;34m\u001b[0m\u001b[0;34m\u001b[0m\u001b[0m\n",
            "\u001b[0;31mKeyError\u001b[0m: 'AylinCaliskan'"
          ]
        }
      ]
    },
    {
      "cell_type": "code",
      "metadata": {
        "id": "5qPaltebDfl6"
      },
      "source": [
        ""
      ],
      "execution_count": null,
      "outputs": []
    }
  ]
}