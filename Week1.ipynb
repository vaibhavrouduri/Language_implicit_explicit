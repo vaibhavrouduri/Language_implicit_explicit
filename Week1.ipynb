{
  "nbformat": 4,
  "nbformat_minor": 0,
  "metadata": {
    "colab": {
      "name": "Thesis_WEAT_Harvard.ipynb",
      "provenance": [],
      "collapsed_sections": [],
      "authorship_tag": "ABX9TyPmFD187E7i/yswqYPlg+sG",
      "include_colab_link": true
    },
    "kernelspec": {
      "name": "python3",
      "display_name": "Python 3"
    },
    "language_info": {
      "name": "python"
    },
    "accelerator": "GPU"
  },
  "cells": [
    {
      "cell_type": "markdown",
      "metadata": {
        "id": "view-in-github",
        "colab_type": "text"
      },
      "source": [
        "<a href=\"https://colab.research.google.com/github/vaibhavrouduri/Thesis-Work/blob/main/Week1.ipynb\" target=\"_parent\"><img src=\"https://colab.research.google.com/assets/colab-badge.svg\" alt=\"Open In Colab\"/></a>"
      ]
    },
    {
      "cell_type": "code",
      "metadata": {
        "id": "h8VgiNmOynYT"
      },
      "source": [
        "import numpy as np\n",
        "import random\n",
        "import time\n",
        "from itertools import filterfalse"
      ],
      "execution_count": 23,
      "outputs": []
    },
    {
      "cell_type": "markdown",
      "metadata": {
        "id": "ByMPQ3vw4g-F"
      },
      "source": [
        "Imported pretrained glove vectors trained on 800B words.\n",
        "Took help from https://colab.research.google.com/github/keras-team/keras-io/blob/master/examples/nlp/ipynb/pretrained_word_embeddings.ipynb#scrollTo=EVOo9FVY2L8P and https://medium.com/analytics-vidhya/basics-of-using-pre-trained-glove-vectors-in-python-d38905f356db\n",
        "\n",
        "\n",
        "---\n",
        "\n"
      ]
    },
    {
      "cell_type": "code",
      "metadata": {
        "colab": {
          "base_uri": "https://localhost:8080/"
        },
        "id": "CAb2CGCM2r2G",
        "outputId": "b8ca8112-d7d5-4de9-f319-d2b7377febd6"
      },
      "source": [
        "!wget http://nlp.stanford.edu/data/glove.840B.300d.zip\n",
        "!unzip -q glove.840B.300d.zip"
      ],
      "execution_count": 2,
      "outputs": [
        {
          "output_type": "stream",
          "text": [
            "--2021-08-12 06:35:44--  http://nlp.stanford.edu/data/glove.840B.300d.zip\n",
            "Resolving nlp.stanford.edu (nlp.stanford.edu)... 171.64.67.140\n",
            "Connecting to nlp.stanford.edu (nlp.stanford.edu)|171.64.67.140|:80... connected.\n",
            "HTTP request sent, awaiting response... 302 Found\n",
            "Location: https://nlp.stanford.edu/data/glove.840B.300d.zip [following]\n",
            "--2021-08-12 06:35:44--  https://nlp.stanford.edu/data/glove.840B.300d.zip\n",
            "Connecting to nlp.stanford.edu (nlp.stanford.edu)|171.64.67.140|:443... connected.\n",
            "HTTP request sent, awaiting response... 301 Moved Permanently\n",
            "Location: http://downloads.cs.stanford.edu/nlp/data/glove.840B.300d.zip [following]\n",
            "--2021-08-12 06:35:45--  http://downloads.cs.stanford.edu/nlp/data/glove.840B.300d.zip\n",
            "Resolving downloads.cs.stanford.edu (downloads.cs.stanford.edu)... 171.64.64.22\n",
            "Connecting to downloads.cs.stanford.edu (downloads.cs.stanford.edu)|171.64.64.22|:80... connected.\n",
            "HTTP request sent, awaiting response... 200 OK\n",
            "Length: 2176768927 (2.0G) [application/zip]\n",
            "Saving to: ‘glove.840B.300d.zip’\n",
            "\n",
            "glove.840B.300d.zip 100%[===================>]   2.03G  5.14MB/s    in 7m 3s   \n",
            "\n",
            "2021-08-12 06:42:47 (4.91 MB/s) - ‘glove.840B.300d.zip’ saved [2176768927/2176768927]\n",
            "\n"
          ],
          "name": "stdout"
        }
      ]
    },
    {
      "cell_type": "code",
      "metadata": {
        "colab": {
          "base_uri": "https://localhost:8080/"
        },
        "id": "KMuxfb2B5wpI",
        "outputId": "dedf5199-8ede-42fe-926d-83483fb5f538"
      },
      "source": [
        "embeddings_index = {}\n",
        "with open(\"glove.840B.300d.txt\") as f:\n",
        "    for line in f:\n",
        "        word, coefs = line.split(maxsplit=1)\n",
        "        coefs = np.fromstring(coefs, \"f\", sep=\" \")\n",
        "        embeddings_index[word] = coefs"
      ],
      "execution_count": 3,
      "outputs": [
        {
          "output_type": "stream",
          "text": [
            "/usr/local/lib/python3.7/dist-packages/ipykernel_launcher.py:5: DeprecationWarning: string or file could not be read to its end due to unmatched data; this will raise a ValueError in the future.\n",
            "  \"\"\"\n"
          ],
          "name": "stderr"
        }
      ]
    },
    {
      "cell_type": "markdown",
      "metadata": {
        "id": "Mi8lQl_8qthR"
      },
      "source": [
        "#Task 1"
      ]
    },
    {
      "cell_type": "code",
      "metadata": {
        "id": "0x-mMYJZyWxG"
      },
      "source": [
        "def cos(v1, v2):\n",
        "  num = np.dot(v1, v2)\n",
        "  denom = np.linalg.norm(v1) * np.linalg.norm(v2)\n",
        "  return num/denom"
      ],
      "execution_count": 4,
      "outputs": []
    },
    {
      "cell_type": "code",
      "metadata": {
        "id": "5vSG7bfrWS7A"
      },
      "source": [
        "def weat_swAB(w, A, B):  # w is a single word, A and B are sets of attribute words\n",
        "  A_list = []\n",
        "  B_list = []\n",
        "\n",
        "  for v in A:\n",
        "    A_list.append(cos(embeddings_index[w], embeddings_index[v]))\n",
        "  for v in B:\n",
        "    B_list.append(cos(embeddings_index[w], embeddings_index[v]))\n",
        "\n",
        "  A_array = np.array(A_list)\n",
        "  B_array = np.array(B_list)\n",
        "\n",
        "  return np.mean(A_array) - np.mean(B_array)"
      ],
      "execution_count": 5,
      "outputs": []
    },
    {
      "cell_type": "code",
      "metadata": {
        "id": "a2KZLg1AR2Yl"
      },
      "source": [
        "def weat_ES(X, Y, A, B):\n",
        "  x_list = []\n",
        "  y_list = []\n",
        "\n",
        "  for x in X:\n",
        "    x_list.append(weat_swAB(x, A, B))\n",
        "  for y in Y:\n",
        "    y_list.append(weat_swAB(y, A, B))\n",
        "\n",
        "  x_array = np.array(x_list)\n",
        "  y_array = np.array(y_list)\n",
        "\n",
        "  return (np.mean(x_array) - np.mean(y_array))/(np.std(np.concatenate((x_array, y_array))))"
      ],
      "execution_count": 6,
      "outputs": []
    },
    {
      "cell_type": "code",
      "metadata": {
        "id": "ebmKFAJiTz8-"
      },
      "source": [
        "X = [\"woman\", \"mother\"]\n",
        "Y = [\"man\", \"father\"]\n",
        "A = [\"health\", \"happy\"]\n",
        "B = [\"pollute\", \"tragedy\"]\n",
        "X_Y = X + Y"
      ],
      "execution_count": 7,
      "outputs": []
    },
    {
      "cell_type": "code",
      "metadata": {
        "id": "w8kkK1WYp6qe"
      },
      "source": [
        "\n",
        "# X = [\"bagpipe\", \"cello\", \"guitar\", \"lute\", \"trombone\", \"banjo\", \"clarinet\", \"harmonica\", \"mandolin\", \"trumpet\", \"bassoon\", \"drum\", \"harp\", \"oboe\", \"tuba\", \"bell\", \"fiddle\", \"harpsichord\", \"piano\", \"viola\", \"bongo\",\n",
        "# \"flute\", \"horn\", \"saxophone\", \"violin\"] #Instruments\n",
        "# Y = [\"arrow\", \"club\", \"gun\", \"missile\", \"spear\", \"axe\", \"dagger\", \"harpoon\", \"pistol\", \"sword\", \"blade\", \"dynamite\", \"hatchet\", \"rifle\", \"tank\", \"bomb\", \"firearm\", \"knife\", \"shotgun\", \"teargas\", \"cannon\", \"grenade\",\n",
        "#     \"mace\", \"slingshot\", \"whip\"] #Weapons\n",
        "# A = [\"caress\", \"freedom\", \"health\", \"love\", \"peace\", \"cheer\", \"friend\", \"heaven\", \"loyal\", \"pleasure\", \"diamond\", \"gentle\", \"honest\", \"lucky\", \"rainbow\", \"diploma\", \"gift\", \"honor\", \"miracle\", \"sunrise\", \"family\",\n",
        "#     \"happy\", \"laughter\", \"paradise\", \"vacation\"] #Pleasant\n",
        "# B = [\"abuse\", \"crash\", \"filth\", \"murder\", \"sickness\", \"accident\", \"death\", \"grief\", \"poison\", \"stink\", \"assault\", \"disaster\", \"hatred\", \"pollute\", \"tragedy\", \"divorce\", \"jail\", \"poverty\", \"ugly\", \"cancer\", \"kill\", \"rotten\",\n",
        "#     \"vomit\", \"agony\", \"prison\"]"
      ],
      "execution_count": null,
      "outputs": []
    },
    {
      "cell_type": "code",
      "metadata": {
        "colab": {
          "base_uri": "https://localhost:8080/"
        },
        "id": "K8jytPnSWAnM",
        "outputId": "b21cba4a-00a8-4766-ff3f-fe507617865b"
      },
      "source": [
        "weat_ES(X, Y, A, B)"
      ],
      "execution_count": 8,
      "outputs": [
        {
          "output_type": "execute_result",
          "data": {
            "text/plain": [
              "1.3516492"
            ]
          },
          "metadata": {
            "tags": []
          },
          "execution_count": 8
        }
      ]
    },
    {
      "cell_type": "code",
      "metadata": {
        "id": "AAjZErN9WDd-"
      },
      "source": [
        "def test_statistic(X, Y, A, B):\n",
        "  x_list = []\n",
        "  y_list = []\n",
        "\n",
        "  for x in X:\n",
        "    x_list.append(weat_swAB(x, A, B))\n",
        "  for y in Y:\n",
        "    y_list.append(weat_swAB(y, A, B))\n",
        "\n",
        "  x_array = np.array(x_list)\n",
        "  y_array = np.array(y_list)\n",
        "\n",
        "  return np.sum(x_array) - np.sum(y_array)"
      ],
      "execution_count": 9,
      "outputs": []
    },
    {
      "cell_type": "code",
      "metadata": {
        "id": "GqcK79EXisIh",
        "colab": {
          "base_uri": "https://localhost:8080/"
        },
        "outputId": "9ea43345-d04b-4f10-e467-17963aed5456"
      },
      "source": [
        "test_statistic(X, Y, A, B)"
      ],
      "execution_count": 10,
      "outputs": [
        {
          "output_type": "execute_result",
          "data": {
            "text/plain": [
              "0.075883955"
            ]
          },
          "metadata": {
            "tags": []
          },
          "execution_count": 10
        }
      ]
    },
    {
      "cell_type": "code",
      "metadata": {
        "id": "5GtBNZFrSLCX"
      },
      "source": [
        "def random_permutation(targets, r):\n",
        "  return random.sample(targets, r)"
      ],
      "execution_count": 11,
      "outputs": []
    },
    {
      "cell_type": "markdown",
      "metadata": {
        "id": "CU7KnSNvpX_k"
      },
      "source": [
        "Took help from https://github.com/jsedoc/ConceptorDebias/blob/master/WEAT/WEAT.ipynb"
      ]
    },
    {
      "cell_type": "code",
      "metadata": {
        "id": "7rqBYeM6VySD"
      },
      "source": [
        "def p_value_weat(X, Y, A, B, iterations):\n",
        "  X_Y = X + Y\n",
        "  size_of_permutation = len(X)\n",
        "  permutations = []\n",
        "  test_statistics_permutations = []\n",
        "  condition_satisfied = []\n",
        "\n",
        "  while iterations != 0:\n",
        "    permutations.append(random_permutation(X_Y, size_of_permutation))\n",
        "    iterations = iterations - 1\n",
        "\n",
        "  for Xi in permutations:\n",
        "    Yi = filterfalse(lambda w:w in Xi, X_Y)\n",
        "    Xi_list = []\n",
        "    Yi_list = []\n",
        "    for w in Xi:\n",
        "      Xi_list.append(embeddings_index[w])\n",
        "    for w in Yi:\n",
        "      Yi_list.append(embeddings_index[w])\n",
        "    Xi_array = np.array(Xi_list)\n",
        "    Yi_array = np.array(Yi_list)\n",
        "    test_statistics_permutations.append(test_statistic(Xi, Yi, A, B))\n",
        "\n",
        "  overall_test_statistic = test_statistic(X, Y, A, B)\n",
        "\n",
        "  condition_satisfied = [p > overall_test_statistic for p in test_statistics_permutations]\n",
        "\n",
        "  condition_satisfied_array = np.array(condition_satisfied)\n",
        "\n",
        "  return condition_satisfied_array.sum()/condition_satisfied_array.size"
      ],
      "execution_count": 12,
      "outputs": []
    },
    {
      "cell_type": "code",
      "metadata": {
        "colab": {
          "base_uri": "https://localhost:8080/"
        },
        "id": "z6hDNbzVpNKi",
        "outputId": "b8316f92-0557-4774-cbc1-70eec728935e"
      },
      "source": [
        "p_value_weat(X, Y, A, B, 1000) # Normal distribution 1000 iterations"
      ],
      "execution_count": 13,
      "outputs": [
        {
          "output_type": "execute_result",
          "data": {
            "text/plain": [
              "1.0"
            ]
          },
          "metadata": {
            "tags": []
          },
          "execution_count": 13
        }
      ]
    },
    {
      "cell_type": "code",
      "metadata": {
        "colab": {
          "base_uri": "https://localhost:8080/"
        },
        "id": "mqZoowfPkjZB",
        "outputId": "296bf790-d3ef-4f7d-94a5-56cc22df5cb7"
      },
      "source": [
        "p_value_weat(X, Y, A, B, 1000000) # Empirical distribution 1,000,000 iterations"
      ],
      "execution_count": 14,
      "outputs": [
        {
          "output_type": "execute_result",
          "data": {
            "text/plain": [
              "1.0"
            ]
          },
          "metadata": {
            "tags": []
          },
          "execution_count": 14
        }
      ]
    },
    {
      "cell_type": "markdown",
      "metadata": {
        "id": "IW86eJu6q14t"
      },
      "source": [
        "#Task 2"
      ]
    },
    {
      "cell_type": "code",
      "metadata": {
        "id": "5sPEgH5nZrHl"
      },
      "source": [
        "def wefat_ES(w, A, B):\n",
        "  A_B = A + B\n",
        "  cos_A_B = []\n",
        "  for x in A_B:\n",
        "    cos_A_B.append(cos(embeddings_index[w], embeddings_index[x]))\n",
        "  cos_A_B_array = np.array(cos_A_B)\n",
        "\n",
        "  return weat_swAB(w, A, B)/np.std(cos_A_B_array)"
      ],
      "execution_count": 15,
      "outputs": []
    },
    {
      "cell_type": "code",
      "metadata": {
        "id": "VQj6sYb3oaPf"
      },
      "source": [
        "A1 = [\"caress\", \"freedom\", \"health\", \"love\", \"peace\", \"cheer\", \"friend\", \"heaven\", \"loyal\", \"pleasure\", \"diamond\", \"gentle\", \"honest\", \"lucky\", \"rainbow\", \"diploma\", \"gift\", \"honor\", \"miracle\", \"sunrise\", \"family\", \"happy\", \"laughter\", \"paradise\", \"vacation\"]\n",
        "A2 = [\"abuse\", \"crash\", \"filth\", \"murder\", \"sickness\", \"accident\", \"death\", \"grief\", \"poison\", \"stink\", \"assault\", \"disaster\", \"hatred\", \"pollute\", \"tragedy\", \"divorce\", \"jail\", \"poverty\", \"ugly\", \"cancer\", \"kill\", \"rotten\", \"vomit\", \"agony\", \"prison\"]"
      ],
      "execution_count": null,
      "outputs": []
    },
    {
      "cell_type": "code",
      "metadata": {
        "id": "fCSJTOtyI4gD"
      },
      "source": [
        "# FA=[\"female\", \"woman\", \"girl\", \"sister\", \"she\", \"her\", \"hers\", \"daughter\"]\n",
        "# FB=[\"male\", \"man\", \"boy\", \"brother\", \"he\", \"him\", \"his\", \"son\"]"
      ],
      "execution_count": 16,
      "outputs": []
    },
    {
      "cell_type": "code",
      "metadata": {
        "id": "yUIjra8-jbRO"
      },
      "source": [
        "def p_value_wefat(w, A, B, iterations):\n",
        "  A_B = A + B\n",
        "  size_of_permutation = len(A)\n",
        "  permutations = []\n",
        "  test_statistics_permutations = []\n",
        "  condition_satisfied = []\n",
        "\n",
        "  while iterations != 0:\n",
        "    permutations.append(random_permutation(A_B, size_of_permutation))\n",
        "    iterations = iterations - 1\n",
        "\n",
        "  for Ai in permutations:\n",
        "    Bi = filterfalse(lambda w:w in Ai, A_B)\n",
        "    Ai_list = []\n",
        "    Bi_list = []\n",
        "    for w in Ai:\n",
        "      Ai_list.append(embeddings_index[w]) \n",
        "    for w in Bi:\n",
        "      Bi_list.append(embeddings_index[w])\n",
        "    Ai_array = np.array(Ai_list)\n",
        "    Bi_array = np.array(Bi_list)\n",
        "    test_statistics_permutations.append(weat_swAB(w, Ai, Bi))\n",
        "\n",
        "  overall_test_statistic = weat_swAB(w, A, B)\n",
        "\n",
        "  condition_satisfied = [p > overall_test_statistic for p in test_statistics_permutations]\n",
        "\n",
        "  condition_satisfied_array = np.array(condition_satisfied)\n",
        "\n",
        "  return condition_satisfied_array.sum()/condition_satisfied_array.size"
      ],
      "execution_count": 18,
      "outputs": []
    },
    {
      "cell_type": "code",
      "metadata": {
        "colab": {
          "base_uri": "https://localhost:8080/"
        },
        "id": "OyN-1j8Qjm_6",
        "outputId": "68d448f1-18f2-4f94-9b73-cab227371ac7"
      },
      "source": [
        "wefat_ES(\"XXXXX\", A1, A2)"
      ],
      "execution_count": null,
      "outputs": [
        {
          "output_type": "execute_result",
          "data": {
            "text/plain": [
              "0.17482777"
            ]
          },
          "metadata": {
            "tags": []
          },
          "execution_count": 25
        }
      ]
    },
    {
      "cell_type": "code",
      "metadata": {
        "colab": {
          "base_uri": "https://localhost:8080/"
        },
        "id": "DaRs0gDsjvnJ",
        "outputId": "afa1ca57-c922-415d-cc1e-fa506d53efa2"
      },
      "source": [
        "p_value_wefat(\"XXXXX\", A1, A2, 1000000)"
      ],
      "execution_count": null,
      "outputs": [
        {
          "output_type": "stream",
          "text": [
            "/usr/local/lib/python3.7/dist-packages/numpy/core/fromnumeric.py:3373: RuntimeWarning: Mean of empty slice.\n",
            "  out=out, **kwargs)\n",
            "/usr/local/lib/python3.7/dist-packages/numpy/core/_methods.py:170: RuntimeWarning: invalid value encountered in double_scalars\n",
            "  ret = ret.dtype.type(ret / rcount)\n"
          ],
          "name": "stderr"
        },
        {
          "output_type": "execute_result",
          "data": {
            "text/plain": [
              "0.0"
            ]
          },
          "metadata": {
            "tags": []
          },
          "execution_count": 26
        }
      ]
    },
    {
      "cell_type": "code",
      "metadata": {
        "colab": {
          "base_uri": "https://localhost:8080/"
        },
        "id": "gvAno5FukACG",
        "outputId": "4485283d-c9b0-4194-afa3-d7c3429cd511"
      },
      "source": [
        "wefat_ES(\"weat\", A1, A2)"
      ],
      "execution_count": null,
      "outputs": [
        {
          "output_type": "execute_result",
          "data": {
            "text/plain": [
              "-0.15603785"
            ]
          },
          "metadata": {
            "tags": []
          },
          "execution_count": 27
        }
      ]
    },
    {
      "cell_type": "code",
      "metadata": {
        "colab": {
          "base_uri": "https://localhost:8080/"
        },
        "id": "AtjAQJBppEBB",
        "outputId": "d11a5e27-4682-4c1c-b85f-44a9d2bdcad3"
      },
      "source": [
        "p_value_wefat(\"weat\", A1, A2, 1000000)"
      ],
      "execution_count": null,
      "outputs": [
        {
          "output_type": "stream",
          "text": [
            "/usr/local/lib/python3.7/dist-packages/numpy/core/fromnumeric.py:3373: RuntimeWarning: Mean of empty slice.\n",
            "  out=out, **kwargs)\n",
            "/usr/local/lib/python3.7/dist-packages/numpy/core/_methods.py:170: RuntimeWarning: invalid value encountered in double_scalars\n",
            "  ret = ret.dtype.type(ret / rcount)\n"
          ],
          "name": "stderr"
        },
        {
          "output_type": "execute_result",
          "data": {
            "text/plain": [
              "0.0"
            ]
          },
          "metadata": {
            "tags": []
          },
          "execution_count": 28
        }
      ]
    },
    {
      "cell_type": "code",
      "metadata": {
        "id": "x1Mnv0M0MSlp"
      },
      "source": [
        "wefat_ES(\"AylinCaliskan\", A1, A2)"
      ],
      "execution_count": null,
      "outputs": []
    },
    {
      "cell_type": "code",
      "metadata": {
        "id": "rgME4K4ulmSZ"
      },
      "source": [
        "p_value_wefat(\"AylinCaliskan\", A1, A2, 1000000)"
      ],
      "execution_count": null,
      "outputs": []
    }
  ]
}